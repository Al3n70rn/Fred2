{
 "cells": [
  {
   "cell_type": "markdown",
   "metadata": {},
   "source": [
    "<h1> Polymorphic Epitope Prediction </h1>\n",
    "\n",
    "This tutorial illustrates how to use Fred2 to integrate genomic information of a patient for epitope prediction\n",
    "\n",
    "This tutorial entails:\n",
    "- Variant construction\n",
    "- Polymorphic Transcript/Protein/Peptide construction\n",
    "- Polymorphic epitope prediction\n"
   ]
  },
  {
   "cell_type": "code",
   "execution_count": 3,
   "metadata": {
    "collapsed": false
   },
   "outputs": [
    {
     "name": "stdout",
     "output_type": "stream",
     "text": [
      "The autoreload extension is already loaded. To reload it, use:\n",
      "  %reload_ext autoreload\n"
     ]
    }
   ],
   "source": [
    "%matplotlib inline\n",
    "%load_ext autoreload\n",
    "%reload_ext autoreload\n",
    "%autoreload 2\n",
    "\n",
    "from Fred2.Core import Allele, Peptide, Protein,generate_peptides_from_proteins\n",
    "from Fred2.IO import read_lines, read_fasta\n",
    "from Fred2.EpitopePrediction import EpitopePredictorFactory\n",
    "from Fred2.Core import generate_transcripts_from_variants, generate_proteins_from_transcripts \n",
    "from Fred2.Core import generate_peptides_from_variants\n",
    "from Fred2.IO import read_annovar_exonic\n",
    "from Fred2.IO.MartsAdapter import MartsAdapter"
   ]
  },
  {
   "cell_type": "markdown",
   "metadata": {},
   "source": [
    "<h2> Chapter 1: Generating polymorphic epitopes </h2>\n",
    "<br/>\n",
    "We first have to construct variants to work with. We either can do this manually or by using one of the IO functions of FRED2. Currently, FRED2 supports annotated exonic ANNOVAR files. Once the variant objects are created, we can use them to construct polymorphic transcripts with `Fred2.Core.generate_transcript_from_variants`. For that we also have to specify from which database the additional transcript information (like sequence etc.) should be extracted. Here we use the `Fred2.IO.MatrsAdapter` to connect to the remote BioMart DB.<br/>\n",
    "\n",
    "`Fred2.Core.generate_transcript_from_variants` will generate all combinatorial possibilities of heterozygous and homozygous variants and incorporate these into the reference transcript sequence. This also means that the function becomes quickly unpractical once a large amount of heterozygous variants should be processed. $n$ heterozygous variants will generate $2^n$ transcript objects. This procedure is done, since no phasing information of the heterozygous variants are routinely available.\n"
   ]
  },
  {
   "cell_type": "code",
   "execution_count": 4,
   "metadata": {
    "collapsed": false
   },
   "outputs": [],
   "source": [
    "vars = read_annovar_exonic(\"./data/test_annovar.out\")\n",
    "trans = generate_transcripts_from_variants(vars, MartsAdapter())"
   ]
  },
  {
   "cell_type": "markdown",
   "metadata": {},
   "source": [
    "Once we generated the polymopric transcripts, we can use `Fred2.Core.generate_proteins_from_transcripts` to construct protein sequences. The so generated protein sequences will contain the non-synonymous variants that effected its protein sequence."
   ]
  },
  {
   "cell_type": "code",
   "execution_count": 3,
   "metadata": {
    "collapsed": false
   },
   "outputs": [],
   "source": [
    "vars = read_annovar_exonic(\"./data/test_annovar.out\")\n",
    "trans = generate_transcripts_from_variants(vars, MartsAdapter())"
   ]
  },
  {
   "cell_type": "markdown",
   "metadata": {},
   "source": [
    "Once we generated the polymorphic transcripts, we can use `Fred2.Core.generate_proteins_from_transcripts` to construct protein sequences. The so generated protein sequences will contain the non-synonymous variants that effected its protein sequence."
   ]
  },
  {
   "cell_type": "code",
   "execution_count": 5,
   "metadata": {
    "collapsed": false
   },
   "outputs": [],
   "source": [
    "proteins = generate_proteins_from_transcripts(trans)"
   ]
  },
  {
   "cell_type": "markdown",
   "metadata": {},
   "source": [
    "By using `Fred2.Core.generate_peptides_from_proteins`, we can now generate polymorphic peptide objects from the previously generated polymorphic proteins. In addition to the proteins from which peptides are be generate, we have to specify a desired peptide length (e.g. 9-mers)."
   ]
  },
  {
   "cell_type": "code",
   "execution_count": 6,
   "metadata": {
    "collapsed": false
   },
   "outputs": [
    {
     "name": "stderr",
     "output_type": "stream",
     "text": [
      "/Library/Python/2.7/site-packages/biopython-1.63-py2.7-macosx-10.9-intel.egg/Bio/Seq.py:1976: BiopythonWarning: Partial codon, len(sequence) not a multiple of three. Explicitly trim the sequence or add trailing N before translation. This may become an error in future.\n",
      "  BiopythonWarning)\n",
      "/Library/Python/2.7/site-packages/Fred2/Core/Generator.py:54: UserWarning: For NM_001293557 bp does not match ref of assigned variant Variant(g.50756540G>C). Pos 2640, var ref G, seq ref A \n",
      "  seq[pos]))\n",
      "/Library/Python/2.7/site-packages/Fred2/Core/Generator.py:54: UserWarning: For NM_001293557 bp does not match ref of assigned variant Variant(g.50745926C>T). Pos 2022, var ref C, seq ref G \n",
      "  seq[pos]))\n",
      "/Library/Python/2.7/site-packages/Fred2/Core/Generator.py:54: UserWarning: For NM_001190266 bp does not match ref of assigned variant Variant(g.234183368A>G). Pos 645, var ref A, seq ref C \n",
      "  seq[pos]))\n"
     ]
    }
   ],
   "source": [
    "peptides1 = generate_peptides_from_proteins(proteins, 9)"
   ]
  },
  {
   "cell_type": "markdown",
   "metadata": {},
   "source": [
    "If we are only interested in polymorphic peptides, or the high number of heterozygous variants prohibits the construction of all polymorphic transcripts/proteins, we can use `Fred2.Core.generate_peptides_from_variants`. This function restricts the combinatorial exploration to a specific window size, thereby reducing the number of possible combination to $2^m$ with $m << n$. The window size represents the length of the desired peptides (e.g. 9-mers)."
   ]
  },
  {
   "cell_type": "code",
   "execution_count": 7,
   "metadata": {
    "collapsed": false,
    "scrolled": true
   },
   "outputs": [],
   "source": [
    "peptides2 = generate_peptides_from_variants(vars, 9, MartsAdapter())"
   ]
  },
  {
   "cell_type": "markdown",
   "metadata": {
    "collapsed": false,
    "scrolled": true
   },
   "source": [
    "**Note**: `Fred2.Core.generate_transcript_from_variants` and `Fred2.Core.generate_proteins_from_transcripts` are true generator functions. That means, they stall the calculations until the actual objects are needed, but can only be traversed once."
   ]
  },
  {
   "cell_type": "markdown",
   "metadata": {},
   "source": [
    "<h2> Chapter 2: Epitope prediction </h2>\n",
    "<br/>\n",
    "Once we have generated the peptide objects, we can fro example predict their binding affinity. For that, we first have to initialize HLA allele objects, and an epitope prediction method. For more information see the <a href=\"https://github.com/FRED-2/Fred2/blob/master/Fred2/tutorials/EpitopePrediction.ipynb\">tutorial on epitope prediction</a>.\n"
   ]
  },
  {
   "cell_type": "code",
   "execution_count": 21,
   "metadata": {
    "collapsed": false
   },
   "outputs": [],
   "source": [
    "proteins = generate_proteins_from_transcripts(trans)"
   ]
  },
  {
   "cell_type": "markdown",
   "metadata": {},
   "source": [
    "By using `Fred2.Core.generate_peptides_from_protein`, we can now generate polymorpic peptide objects from the previously generated polymorpic proteins. In addition to the proteins from which peptides should be generate, we have to specify a desired peptide length (e.g. 9-mers)."
   ]
  },
  {
   "cell_type": "code",
   "execution_count": 12,
   "metadata": {
    "collapsed": false
   },
   "outputs": [],
   "source": [
    "peptides1 = generate_peptides_from_protein(proteins, 9)"
   ]
  },
  {
   "cell_type": "markdown",
   "metadata": {},
   "source": [
    "These polymorpich peptides have functionionalities that allow th identify the variants that influenced their sequences and locate their positions within the peptide sequence.\n",
    "<br/><br/>\n",
    "If we are only interrested in polymorphic peptides, or the high number of heterozygious variants prohibits the construction of all polymorpic transcripts/proteins, we can use `Fred2.Core.generate_peptides_from_variants`. This function restricts the combinatorial exploration of a specific window size, thereby reducing the number of possible combination to $2^m$ with $m << n$. The window size represents the length of the desired peptides (e.g. 9-mers). "
   ]
  },
  {
   "cell_type": "code",
   "execution_count": 8,
   "metadata": {
    "collapsed": false,
    "scrolled": true
   },
   "outputs": [
    {
     "name": "stdout",
     "output_type": "stream",
     "text": [
      "NM_004004\n",
      "NM_001293557\n",
      "NM_001190267"
     ]
    },
    {
     "name": "stderr",
     "output_type": "stream",
     "text": [
      "/Users/schubert/Dropbox/PhD/Porgramming/Fred2/Fred2/Core/Generator.py:50: UserWarning: For NM_001293557 bp does not match ref of assigned variant Variant(g.50745926C>T). Pos 2022, var ref C, seq ref G \n",
      "  seq[pos]))\n",
      "/Users/schubert/Dropbox/PhD/Porgramming/Fred2/Fred2/Core/Generator.py:50: UserWarning: For NM_001293557 bp does not match ref of assigned variant Variant(g.50745926C>T). Pos 2022, var ref C, seq ref T \n",
      "  seq[pos]))\n",
      "/Users/schubert/Dropbox/PhD/Porgramming/Fred2/Fred2/Core/Generator.py:50: UserWarning: For NM_001293557 bp does not match ref of assigned variant Variant(g.50756540G>C). Pos 2640, var ref G, seq ref A \n",
      "  seq[pos]))\n",
      "/Users/schubert/Dropbox/PhD/Porgramming/Fred2/Fred2/Core/Generator.py:50: UserWarning: For NM_001293557 bp does not match ref of assigned variant Variant(g.50756540G>C). Pos 2640, var ref G, seq ref C \n",
      "  seq[pos]))\n",
      "/Users/schubert/Dropbox/PhD/Porgramming/Fred2/Fred2/Core/Generator.py:50: UserWarning: For NM_001190267 bp does not match ref of assigned variant Variant(g.234183368A>G). Pos 549, var ref A, seq ref G \n",
      "  seq[pos]))\n"
     ]
    },
    {
     "name": "stdout",
     "output_type": "stream",
     "text": [
      "\n",
      "[Variant(g.67705958G>A), Variant(g.234183368A>G), Variant(g.50745926C>T), Variant(g.50756540G>C), Variant(g.20763686G>-)]\n",
      "NM_004004\n",
      "NM_001293557\n",
      "NM_001190267\n",
     ]
    },
    {
     "name": "stderr",
     "output_type": "stream",
     "text": [
      "/Users/schubert/Dropbox/PhD/Porgramming/Fred2/Fred2/Core/Generator.py:50: UserWarning: For NM_144701 bp does not match ref of assigned variant Variant(g.67705958G>A). Pos 1141, var ref G, seq ref A \n",
      "  seq[pos]))\n",
      "/Users/schubert/Dropbox/PhD/Porgramming/Fred2/Fred2/Core/Generator.py:50: UserWarning: For NM_001190266 bp does not match ref of assigned variant Variant(g.234183368A>G). Pos 645, var ref A, seq ref C \n",
      "  seq[pos]))\n"
     ]
    },
    {
     "name": "stdout",
     "output_type": "stream",
     "text": [
      "\n",
      "NM_198890"
     ]
    },
    {
     "name": "stderr",
     "output_type": "stream",
     "text": [
      "/Users/schubert/Dropbox/PhD/Porgramming/Fred2/Fred2/Core/Generator.py:50: UserWarning: For NM_001190266 bp does not match ref of assigned variant Variant(g.234183368A>G). Pos 645, var ref A, seq ref G \n",
      "  seq[pos]))\n",
      "/Users/schubert/Dropbox/PhD/Porgramming/Fred2/Fred2/Core/Generator.py:50: UserWarning: For NM_198890 bp does not match ref of assigned variant Variant(g.234183368A>G). Pos 408, var ref A, seq ref G \n",
      "  seq[pos]))\n"
     ]
    },
    {
     "name": "stdout",
     "output_type": "stream",
     "text": [
      "\n",
      "NM_022162\n",
      "NM_030803"
     ]
    },
    {
     "name": "stderr",
     "output_type": "stream",
     "text": [
      "/Users/schubert/Dropbox/PhD/Porgramming/Fred2/Fred2/Core/Generator.py:50: UserWarning: For NM_022162 bp does not match ref of assigned variant Variant(g.50745926C>T). Pos 2103, var ref C, seq ref T \n",
      "  seq[pos]))\n",
      "/Users/schubert/Dropbox/PhD/Porgramming/Fred2/Fred2/Core/Generator.py:50: UserWarning: For NM_022162 bp does not match ref of assigned variant Variant(g.50756540G>C). Pos 2721, var ref G, seq ref C \n",
      "  seq[pos]))\n",
      "/Users/schubert/Dropbox/PhD/Porgramming/Fred2/Fred2/Core/Generator.py:50: UserWarning: For NM_030803 bp does not match ref of assigned variant Variant(g.234183368A>G). Pos 897, var ref A, seq ref G \n",
      "  seq[pos]))\n"
     ]
    },
    {
     "name": "stdout",
     "output_type": "stream",
     "text": [
      "\n",
      "NM_017974\n"
     ]
    },
    {
     "name": "stderr",
     "output_type": "stream",
     "text": [
      "/Users/schubert/Dropbox/PhD/Porgramming/Fred2/Fred2/Core/Generator.py:50: UserWarning: For NM_017974 bp does not match ref of assigned variant Variant(g.234183368A>G). Pos 840, var ref A, seq ref G \n",
      "  seq[pos]))\n"
     ]
    }
   ],
   "source": [
    "peptides2 = generate_peptides_from_variants(vars, 9, MartsAdapter())"
   ]
  },
  {
   "cell_type": "code",
   "execution_count": 14,
   "metadata": {
    "collapsed": false,
    "scrolled": true
   },
   "outputs": [
    {
     "name": "stdout",
     "output_type": "stream",
     "text": [
      "2777\n",
      "7386\n",
      "9\n",
      "4618\n"
     ]
    }
   ],
   "source": [
    "s1= set(map(str,peptides1))\n",
    "s2 = set(map(str,peptides2))\n",
    "\n",
    "print len(s1)\n",
    "print len(s2)\n",
    "print len(s1-s2)\n",
    "print len(s2-s1)\n",
    "\n"
   ]
  },
  {
   "cell_type": "markdown",
   "metadata": {},
   "source": [
    "<h2> Chapter 2: Epitope prediction </h2>\n",
    "<br/>\n",
    "Once we have generated the peptide objects, we can fro example predict their binind affinity. For that, we first have to initialize HLA allele objects, and an epitope prediction method. For more information see the <a href=\"https://github.com/FRED-2/Fred2/blob/master/Fred2/tutorials/EpitopePrediction.ipynb\">tutorial on epitope prediction</a>."
   ]
  },
  {
   "cell_type": "code",
   "execution_count": 21,
   "metadata": {
    "collapsed": false
   },
   "outputs": [
    {
     "data": {
      "text/html": [
       "<div>\n",
       "<table border=\"1\" class=\"dataframe\">\n",
       "  <thead>\n",
       "    <tr style=\"text-align: right;\">\n",
       "      <th></th>\n",
       "      <th></th>\n",
       "      <th>A*02:01</th>\n",
       "      <th>B*15:01</th>\n",
       "    </tr>\n",
       "    <tr>\n",
       "      <th>Seq</th>\n",
       "      <th>Method</th>\n",
       "      <th></th>\n",
       "      <th></th>\n",
       "    </tr>\n",
       "  </thead>\n",
       "  <tbody>\n",
       "    <tr>\n",
       "      <th>(A, A, A, Q, E, A, Q, A, D)</th>\n",
       "      <th>svmhc</th>\n",
       "      <td>-0.995096</td>\n",
       "      <td>-1.295513</td>\n",
       "    </tr>\n",
       "    <tr>\n",
       "      <th>(A, A, D, F, P, R, W, K, R)</th>\n",
       "      <th>svmhc</th>\n",
       "      <td>-1.068312</td>\n",
       "      <td>-0.813017</td>\n",
       "    </tr>\n",
       "    <tr>\n",
       "      <th>(A, A, F, L, A, G, L, L, S)</th>\n",
       "      <th>svmhc</th>\n",
       "      <td>-1.558208</td>\n",
       "      <td>-0.920914</td>\n",
       "    </tr>\n",
       "    <tr>\n",
       "      <th>(A, A, F, L, L, Q, H, V, Q)</th>\n",
       "      <th>svmhc</th>\n",
       "      <td>-1.317206</td>\n",
       "      <td>-1.189752</td>\n",
       "    </tr>\n",
       "    <tr>\n",
       "      <th>(A, A, F, M, Y, V, F, Y, V)</th>\n",
       "      <th>svmhc</th>\n",
       "      <td>0.607884</td>\n",
       "      <td>-0.709952</td>\n",
       "    </tr>\n",
       "  </tbody>\n",
       "</table>\n",
       "</div>"
      ],
      "text/plain": [
       "                                     A*02:01   B*15:01\n",
       "Seq                         Method                    \n",
       "(A, A, A, Q, E, A, Q, A, D) svmhc  -0.995096 -1.295513\n",
       "(A, A, D, F, P, R, W, K, R) svmhc  -1.068312 -0.813017\n",
       "(A, A, F, L, A, G, L, L, S) svmhc  -1.558208 -0.920914\n",
       "(A, A, F, L, L, Q, H, V, Q) svmhc  -1.317206 -1.189752\n",
       "(A, A, F, M, Y, V, F, Y, V) svmhc   0.607884 -0.709952"
      ]
     },
     "execution_count": 21,
     "metadata": {},
     "output_type": "execute_result"
    }
   ],
   "source": [
    "alleles = read_lines(\"./data/alleles.txt\", type=Allele)\n",
    "svmhc = EpitopePredictorFactory(\"svmhc\")\n",
    "pred_df = svmhc.predict(filter(lambda x: \"*\" not in str(x), peptides1), alleles=alleles)\n",
    "pred_df.head()"
   ]
  },
  {
   "cell_type": "markdown",
   "metadata": {},
   "source": [
    "<h2> Chapter 3: Post-processing </h2>\n",
    "<br/>\n",
    "These polymorphic peptides have functionalities that allow the user to identify the variants that influenced the peptide sequences and locate their positions within the peptide sequence. With 'Peptide.get_variants_by_protein()' we obtain a list of variants that influenced the peptide sequence originating from a specific protein. 'Peptide.get_variants_by_protein_position()' returns a dictionary of "
   ]
  },
  {
   "cell_type": "code",
   "execution_count": 8,
   "metadata": {
    "collapsed": false,
    "scrolled": false
   },
   "outputs": [
    {
     "name": "stdout",
     "output_type": "stream",
     "text": [
      "[Variant(g.50756540G>C)]\n",
      "{880: [Variant(g.50756540G>C)]} NM_001293557:FRED2_1  Protein position:  874  Peptide:  ALRLGNHYI\n",
      "[Variant(g.50756540G>C)]\n",
      "{880: [Variant(g.50756540G>C)]} NM_001293557:FRED2_3  Protein position:  874  Peptide:  ALRLGNHYI\n",
      "[Variant(g.67705958G>A)]\n",
      "{380: [Variant(g.67705958G>A)]} NM_144701:FRED2_1  Protein position:  379  Peptide:  FQTGIKRRI\n",
      "[Variant(g.50756540G>C)]\n",
      "{907: [Variant(g.50756540G>C)]} NM_022162:FRED2_3  Protein position:  899  Peptide:  SLQFLGFWR\n",
      "[Variant(g.50756540G>C)]\n",
      "{907: [Variant(g.50756540G>C)]} NM_022162:FRED2_1  Protein position:  899  Peptide:  SLQFLGFWR\n",
      "[Variant(g.50745926C>T)]\n",
      "{674: [Variant(g.50745926C>T)]} NM_001293557:FRED2_2  Protein position:  671  Peptide:  QITSAFLAG\n",
      "[Variant(g.50745926C>T)]\n",
      "{674: [Variant(g.50745926C>T)]} NM_001293557:FRED2_3  Protein position:  671  Peptide:  QITSAFLAG\n",
      "[Variant(g.50745926C>T)]\n",
      "{674: [Variant(g.50745926C>T)]} NM_001293557:FRED2_2  Protein position:  668  Peptide:  HNLQITSAF\n",
      "[Variant(g.50745926C>T)]\n",
      "{674: [Variant(g.50745926C>T)]} NM_001293557:FRED2_3  Protein position:  668  Peptide:  HNLQITSAF\n",
      "[Variant(g.234183368A>G)]\n",
      "{280: [Variant(g.234183368A>G)]} NM_017974:FRED2_1  Protein position:  274  Peptide:  PQDNVDAHP\n",
      "[Variant(g.234183368A>G)]\n",
      "{136: [Variant(g.234183368A>G)]} NM_198890:FRED2_1  Protein position:  130  Peptide:  PQDNVDAHP\n",
      "[Variant(g.234183368A>G)]\n",
      "{299: [Variant(g.234183368A>G)]} NM_030803:FRED2_1  Protein position:  293  Peptide:  PQDNVDAHP\n",
      "[Variant(g.20763686G>-)]\n",
      "{11: [Variant(g.20763686G>-)]} NM_004004:FRED2_1  Protein position:  7  Peptide:  TILGV*TNT\n",
      "[Variant(g.234183368A>G)]\n",
      "{215: [Variant(g.234183368A>G)]} NM_001190266:FRED2_1  Protein position:  210  Peptide:  KDSRRGQAR\n",
      "[Variant(g.50745926C>T)]\n",
      "{674: [Variant(g.50745926C>T)]} NM_001293557:FRED2_2  Protein position:  670  Peptide:  LQITSAFLA\n",
      "[Variant(g.50745926C>T)]\n",
      "{674: [Variant(g.50745926C>T)]} NM_001293557:FRED2_3  Protein position:  670  Peptide:  LQITSAFLA\n",
      "[Variant(g.20763686G>-)]\n",
      "{11: [Variant(g.20763686G>-)]} NM_004004:FRED2_1  Protein position:  10  Peptide:  GV*TNTPPA\n",
      "[Variant(g.50745926C>T)]\n",
      "{701: [Variant(g.50745926C>T)]} NM_022162:FRED2_2  Protein position:  696  Peptide:  EKALLWRQA\n",
      "[Variant(g.50745926C>T)]\n",
      "{701: [Variant(g.50745926C>T)]} NM_022162:FRED2_3  Protein position:  696  Peptide:  EKALLWRQA\n",
      "[Variant(g.50756540G>C)]\n",
      "{880: [Variant(g.50756540G>C)]} NM_001293557:FRED2_1  Protein position:  879  Peptide:  NHYITAAGA\n",
      "[Variant(g.50756540G>C)]\n",
      "{880: [Variant(g.50756540G>C)]} NM_001293557:FRED2_3  Protein position:  879  Peptide:  NHYITAAGA\n",
      "[Variant(g.20763686G>-)]\n",
      "{11: [Variant(g.20763686G>-)]} NM_004004:FRED2_1  Protein position:  9  Peptide:  LGV*TNTPP\n",
      "[Variant(g.20763686G>-)]\n",
      "{11: [Variant(g.20763686G>-)]} NM_004004:FRED2_1  Protein position:  5  Peptide:  LQTILGV*T\n",
      "[Variant(g.20763686G>-)]\n",
      "{11: [Variant(g.20763686G>-)]} NM_004004:FRED2_1  Protein position:  11  Peptide:  V*TNTPPAL\n",
      "[Variant(g.20763686G>-)]\n",
      "{11: [Variant(g.20763686G>-)]} NM_004004:FRED2_1  Protein position:  8  Peptide:  ILGV*TNTP\n",
      "[Variant(g.234183368A>G)]\n",
      "{280: [Variant(g.234183368A>G)]} NM_017974:FRED2_1  Protein position:  272  Peptide:  PVPQDNVDA\n",
      "[Variant(g.234183368A>G)]\n",
      "{136: [Variant(g.234183368A>G)]} NM_198890:FRED2_1  Protein position:  128  Peptide:  PVPQDNVDA\n",
      "[Variant(g.234183368A>G)]\n",
      "{299: [Variant(g.234183368A>G)]} NM_030803:FRED2_1  Protein position:  291  Peptide:  PVPQDNVDA\n",
      "[Variant(g.50756540G>C)]\n",
      "{907: [Variant(g.50756540G>C)]} NM_022162:FRED2_3  Protein position:  902  Peptide:  FLGFWRNRV\n",
      "[Variant(g.50756540G>C)]\n",
      "{907: [Variant(g.50756540G>C)]} NM_022162:FRED2_1  Protein position:  902  Peptide:  FLGFWRNRV\n",
      "[Variant(g.234183368A>G)]\n",
      "{215: [Variant(g.234183368A>G)]} NM_001190266:FRED2_1  Protein position:  212  Peptide:  SRRGQARLQ\n",
      "[Variant(g.234183368A>G)]\n",
      "{183: [Variant(g.234183368A>G)]} NM_001190267:FRED2_1  Protein position:  176  Peptide:  EGKLRKTAE\n",
      "[Variant(g.234183368A>G)]\n",
      "{183: [Variant(g.234183368A>G)]} NM_001190267:FRED2_1  Protein position:  182  Peptide:  TAEENQELV\n",
      "[Variant(g.67705958G>A)]\n",
      "{380: [Variant(g.67705958G>A)]} NM_144701:FRED2_1  Protein position:  373  Peptide:  GIFNRSFQT\n",
      "[Variant(g.234183368A>G)]\n",
      "{280: [Variant(g.234183368A>G)]} NM_017974:FRED2_1  Protein position:  273  Peptide:  VPQDNVDAH\n",
      "[Variant(g.234183368A>G)]\n",
      "{136: [Variant(g.234183368A>G)]} NM_198890:FRED2_1  Protein position:  129  Peptide:  VPQDNVDAH\n",
      "[Variant(g.234183368A>G)]\n",
      "{299: [Variant(g.234183368A>G)]} NM_030803:FRED2_1  Protein position:  292  Peptide:  VPQDNVDAH\n",
      "[Variant(g.50756540G>C)]\n",
      "{907: [Variant(g.50756540G>C)]} NM_022162:FRED2_3  Protein position:  900  Peptide:  LQFLGFWRN\n",
      "[Variant(g.50756540G>C)]\n",
      "{907: [Variant(g.50756540G>C)]} NM_022162:FRED2_1  Protein position:  900  Peptide:  LQFLGFWRN\n",
      "[Variant(g.234183368A>G)]\n",
      "{280: [Variant(g.234183368A>G)]} NM_017974:FRED2_1  Protein position:  279  Peptide:  DAHPGSGKE\n",
      "[Variant(g.234183368A>G)]\n",
      "{136: [Variant(g.234183368A>G)]} NM_198890:FRED2_1  Protein position:  135  Peptide:  DAHPGSGKE\n",
      "[Variant(g.234183368A>G)]\n",
      "{299: [Variant(g.234183368A>G)]} NM_030803:FRED2_1  Protein position:  298  Peptide:  DAHPGSGKE\n",
      "[Variant(g.50756540G>C)]\n",
      "{907: [Variant(g.50756540G>C)]} NM_022162:FRED2_3  Protein position:  907  Peptide:  RNRVGDEGA\n",
      "[Variant(g.50756540G>C)]\n",
      "{907: [Variant(g.50756540G>C)]} NM_022162:FRED2_1  Protein position:  907  Peptide:  RNRVGDEGA\n",
      "[Variant(g.234183368A>G)]\n",
      "{183: [Variant(g.234183368A>G)]} NM_001190267:FRED2_1  Protein position:  180  Peptide:  RKTAEENQE\n",
      "[Variant(g.67705958G>A)]\n",
      "{380: [Variant(g.67705958G>A)]} NM_144701:FRED2_1  Protein position:  378  Peptide:  SFQTGIKRR\n",
      "[Variant(g.50756540G>C)]\n",
      "{880: [Variant(g.50756540G>C)]} NM_001293557:FRED2_1  Protein position:  872  Peptide:  FLALRLGNH\n",
      "[Variant(g.50756540G>C)]\n",
      "{880: [Variant(g.50756540G>C)]} NM_001293557:FRED2_3  Protein position:  872  Peptide:  FLALRLGNH\n",
      "[Variant(g.50756540G>C)]\n",
      "{880: [Variant(g.50756540G>C)]} NM_001293557:FRED2_1  Protein position:  876  Peptide:  RLGNHYITA\n",
      "[Variant(g.50756540G>C)]\n",
      "{880: [Variant(g.50756540G>C)]} NM_001293557:FRED2_3  Protein position:  876  Peptide:  RLGNHYITA\n",
      "[Variant(g.50745926C>T)]\n",
      "{701: [Variant(g.50745926C>T)]} NM_022162:FRED2_2  Protein position:  694  Peptide:  TSEKALLWR\n",
      "[Variant(g.50745926C>T)]\n",
      "{701: [Variant(g.50745926C>T)]} NM_022162:FRED2_3  Protein position:  694  Peptide:  TSEKALLWR\n",
      "[Variant(g.67705958G>A)]\n",
      "{380: [Variant(g.67705958G>A)]} NM_144701:FRED2_1  Protein position:  374  Peptide:  IFNRSFQTG\n",
      "[Variant(g.50756540G>C)]\n",
      "{907: [Variant(g.50756540G>C)]} NM_022162:FRED2_3  Protein position:  903  Peptide:  LGFWRNRVG\n",
      "[Variant(g.50756540G>C)]\n",
      "{907: [Variant(g.50756540G>C)]} NM_022162:FRED2_1  Protein position:  903  Peptide:  LGFWRNRVG\n",
      "[Variant(g.234183368A>G)]\n",
      "{280: [Variant(g.234183368A>G)]} NM_017974:FRED2_1  Protein position:  276  Peptide:  DNVDAHPGS\n",
      "[Variant(g.234183368A>G)]\n",
      "{136: [Variant(g.234183368A>G)]} NM_198890:FRED2_1  Protein position:  132  Peptide:  DNVDAHPGS\n",
      "[Variant(g.234183368A>G)]\n",
      "{299: [Variant(g.234183368A>G)]} NM_030803:FRED2_1  Protein position:  295  Peptide:  DNVDAHPGS\n",
      "[Variant(g.50745926C>T)]\n",
      "{701: [Variant(g.50745926C>T)]} NM_022162:FRED2_2  Protein position:  695  Peptide:  SEKALLWRQ\n",
      "[Variant(g.50745926C>T)]\n",
      "{701: [Variant(g.50745926C>T)]} NM_022162:FRED2_3  Protein position:  695  Peptide:  SEKALLWRQ\n",
      "[Variant(g.234183368A>G)]\n",
      "{215: [Variant(g.234183368A>G)]} NM_001190266:FRED2_1  Protein position:  215  Peptide:  GQARLQKEL\n",
      "[Variant(g.67705958G>A)]\n",
      "{380: [Variant(g.67705958G>A)]} NM_144701:FRED2_1  Protein position:  372  Peptide:  IGIFNRSFQ\n",
      "[Variant(g.234183368A>G)]\n",
      "{215: [Variant(g.234183368A>G)]} NM_001190266:FRED2_1  Protein position:  207  Peptide:  ENEKDSRRG\n",
      "[Variant(g.234183368A>G)]\n",
      "{183: [Variant(g.234183368A>G)]} NM_001190267:FRED2_1  Protein position:  183  Peptide:  AEENQELVT\n",
      "[Variant(g.50745926C>T)]\n",
      "{701: [Variant(g.50745926C>T)]} NM_022162:FRED2_2  Protein position:  699  Peptide:  LLWRQACAR\n",
      "[Variant(g.50745926C>T)]\n",
      "{701: [Variant(g.50745926C>T)]} NM_022162:FRED2_3  Protein position:  699  Peptide:  LLWRQACAR\n",
      "[Variant(g.234183368A>G)]\n",
      "{215: [Variant(g.234183368A>G)]} NM_001190266:FRED2_1  Protein position:  211  Peptide:  DSRRGQARL\n",
      "[Variant(g.234183368A>G)]\n",
      "{280: [Variant(g.234183368A>G)]} NM_017974:FRED2_1  Protein position:  278  Peptide:  VDAHPGSGK\n",
      "[Variant(g.234183368A>G)]\n",
      "{136: [Variant(g.234183368A>G)]} NM_198890:FRED2_1  Protein position:  134  Peptide:  VDAHPGSGK\n",
      "[Variant(g.234183368A>G)]\n",
      "{299: [Variant(g.234183368A>G)]} NM_030803:FRED2_1  Protein position:  297  Peptide:  VDAHPGSGK\n",
      "[Variant(g.67705958G>A)]\n",
      "{380: [Variant(g.67705958G>A)]} NM_144701:FRED2_1  Protein position:  380  Peptide:  QTGIKRRIL\n",
      "[Variant(g.50756540G>C)]\n",
      "{907: [Variant(g.50756540G>C)]} NM_022162:FRED2_3  Protein position:  904  Peptide:  GFWRNRVGD\n",
      "[Variant(g.50756540G>C)]\n",
      "{907: [Variant(g.50756540G>C)]} NM_022162:FRED2_1  Protein position:  904  Peptide:  GFWRNRVGD\n",
      "[Variant(g.234183368A>G)]\n",
      "{183: [Variant(g.234183368A>G)]} NM_001190267:FRED2_1  Protein position:  175  Peptide:  LEGKLRKTA\n",
      "[Variant(g.50756540G>C)]\n",
      "{880: [Variant(g.50756540G>C)]} NM_001293557:FRED2_1  Protein position:  877  Peptide:  LGNHYITAA\n",
      "[Variant(g.50756540G>C)]\n",
      "{880: [Variant(g.50756540G>C)]} NM_001293557:FRED2_3  Protein position:  877  Peptide:  LGNHYITAA\n",
      "[Variant(g.234183368A>G)]\n",
      "{183: [Variant(g.234183368A>G)]} NM_001190267:FRED2_1  Protein position:  178  Peptide:  KLRKTAEEN\n",
      "[Variant(g.50756540G>C)]\n",
      "{907: [Variant(g.50756540G>C)]} NM_022162:FRED2_3  Protein position:  901  Peptide:  QFLGFWRNR\n",
      "[Variant(g.50756540G>C)]\n",
      "{907: [Variant(g.50756540G>C)]} NM_022162:FRED2_1  Protein position:  901  Peptide:  QFLGFWRNR\n",
      "[Variant(g.50745926C>T)]\n",
      "{701: [Variant(g.50745926C>T)]} NM_022162:FRED2_2  Protein position:  700  Peptide:  LWRQACARW\n",
      "[Variant(g.50745926C>T)]\n",
      "{701: [Variant(g.50745926C>T)]} NM_022162:FRED2_3  Protein position:  700  Peptide:  LWRQACARW\n",
      "[Variant(g.234183368A>G)]\n",
      "{215: [Variant(g.234183368A>G)]} NM_001190266:FRED2_1  Protein position:  208  Peptide:  NEKDSRRGQ\n",
      "[Variant(g.67705958G>A)]\n",
      "{380: [Variant(g.67705958G>A)]} NM_144701:FRED2_1  Protein position:  376  Peptide:  NRSFQTGIK\n",
      "[Variant(g.50745926C>T)]\n",
      "{674: [Variant(g.50745926C>T)]} NM_001293557:FRED2_2  Protein position:  673  Peptide:  TSAFLAGLL\n",
      "[Variant(g.50745926C>T)]\n",
      "{674: [Variant(g.50745926C>T)]} NM_001293557:FRED2_3  Protein position:  673  Peptide:  TSAFLAGLL\n",
      "[Variant(g.50756540G>C)]\n",
      "{907: [Variant(g.50756540G>C)]} NM_022162:FRED2_3  Protein position:  905  Peptide:  FWRNRVGDE\n",
      "[Variant(g.50756540G>C)]\n",
      "{907: [Variant(g.50756540G>C)]} NM_022162:FRED2_1  Protein position:  905  Peptide:  FWRNRVGDE\n",
      "[Variant(g.50745926C>T)]\n",
      "{674: [Variant(g.50745926C>T)]} NM_001293557:FRED2_2  Protein position:  669  Peptide:  NLQITSAFL\n",
      "[Variant(g.50745926C>T)]\n",
      "{674: [Variant(g.50745926C>T)]} NM_001293557:FRED2_3  Protein position:  669  Peptide:  NLQITSAFL\n",
      "[Variant(g.234183368A>G)]\n",
      "{215: [Variant(g.234183368A>G)]} NM_001190266:FRED2_1  Protein position:  209  Peptide:  EKDSRRGQA\n",
      "[Variant(g.50745926C>T)]\n",
      "{674: [Variant(g.50745926C>T)]} NM_001293557:FRED2_2  Protein position:  666  Peptide:  EPHNLQITS\n",
      "[Variant(g.50745926C>T)]\n",
      "{674: [Variant(g.50745926C>T)]} NM_001293557:FRED2_3  Protein position:  666  Peptide:  EPHNLQITS\n",
      "[Variant(g.20763686G>-)]\n",
      "{11: [Variant(g.20763686G>-)]} NM_004004:FRED2_1  Protein position:  6  Peptide:  QTILGV*TN\n",
      "[Variant(g.50745926C>T)]\n",
      "{674: [Variant(g.50745926C>T)]} NM_001293557:FRED2_2  Protein position:  674  Peptide:  SAFLAGLLS\n",
      "[Variant(g.50745926C>T)]\n",
      "{674: [Variant(g.50745926C>T)]} NM_001293557:FRED2_3  Protein position:  674  Peptide:  SAFLAGLLS\n",
      "[Variant(g.50745926C>T)]\n",
      "{701: [Variant(g.50745926C>T)]} NM_022162:FRED2_2  Protein position:  701  Peptide:  WRQACARWC\n",
      "[Variant(g.50745926C>T)]\n",
      "{701: [Variant(g.50745926C>T)]} NM_022162:FRED2_3  Protein position:  701  Peptide:  WRQACARWC\n",
      "[Variant(g.50756540G>C)]\n",
      "{880: [Variant(g.50756540G>C)]} NM_001293557:FRED2_1  Protein position:  875  Peptide:  LRLGNHYIT\n",
      "[Variant(g.50756540G>C)]\n",
      "{880: [Variant(g.50756540G>C)]} NM_001293557:FRED2_3  Protein position:  875  Peptide:  LRLGNHYIT\n",
      "[Variant(g.234183368A>G)]\n",
      "{280: [Variant(g.234183368A>G)]} NM_017974:FRED2_1  Protein position:  280  Peptide:  AHPGSGKEV\n",
      "[Variant(g.234183368A>G)]\n",
      "{136: [Variant(g.234183368A>G)]} NM_198890:FRED2_1  Protein position:  136  Peptide:  AHPGSGKEV\n",
      "[Variant(g.234183368A>G)]\n",
      "{299: [Variant(g.234183368A>G)]} NM_030803:FRED2_1  Protein position:  299  Peptide:  AHPGSGKEV\n",
      "[Variant(g.234183368A>G)]\n",
      "{280: [Variant(g.234183368A>G)]} NM_017974:FRED2_1  Protein position:  277  Peptide:  NVDAHPGSG\n",
      "[Variant(g.234183368A>G)]\n",
      "{136: [Variant(g.234183368A>G)]} NM_198890:FRED2_1  Protein position:  133  Peptide:  NVDAHPGSG\n",
      "[Variant(g.234183368A>G)]\n",
      "{299: [Variant(g.234183368A>G)]} NM_030803:FRED2_1  Protein position:  296  Peptide:  NVDAHPGSG\n",
      "[Variant(g.50745926C>T)]\n",
      "{701: [Variant(g.50745926C>T)]} NM_022162:FRED2_2  Protein position:  697  Peptide:  KALLWRQAC\n",
      "[Variant(g.50745926C>T)]\n",
      "{701: [Variant(g.50745926C>T)]} NM_022162:FRED2_3  Protein position:  697  Peptide:  KALLWRQAC\n",
      "[Variant(g.67705958G>A)]\n",
      "{380: [Variant(g.67705958G>A)]} NM_144701:FRED2_1  Protein position:  377  Peptide:  RSFQTGIKR\n",
      "[Variant(g.50745926C>T)]\n",
      "{674: [Variant(g.50745926C>T)]} NM_001293557:FRED2_2  Protein position:  672  Peptide:  ITSAFLAGL\n",
      "[Variant(g.50745926C>T)]\n",
      "{674: [Variant(g.50745926C>T)]} NM_001293557:FRED2_3  Protein position:  672  Peptide:  ITSAFLAGL\n",
      "[Variant(g.50745926C>T)]\n",
      "{701: [Variant(g.50745926C>T)]} NM_022162:FRED2_2  Protein position:  693  Peptide:  QTSEKALLW\n",
      "[Variant(g.50745926C>T)]\n",
      "{701: [Variant(g.50745926C>T)]} NM_022162:FRED2_3  Protein position:  693  Peptide:  QTSEKALLW\n",
      "[Variant(g.234183368A>G)]\n",
      "{183: [Variant(g.234183368A>G)]} NM_001190267:FRED2_1  Protein position:  181  Peptide:  KTAEENQEL\n",
      "[Variant(g.50756540G>C)]\n",
      "{880: [Variant(g.50756540G>C)]} NM_001293557:FRED2_1  Protein position:  878  Peptide:  GNHYITAAG\n",
      "[Variant(g.50756540G>C)]\n",
      "{880: [Variant(g.50756540G>C)]} NM_001293557:FRED2_3  Protein position:  878  Peptide:  GNHYITAAG\n",
      "[Variant(g.50756540G>C)]\n",
      "{907: [Variant(g.50756540G>C)]} NM_022162:FRED2_3  Protein position:  906  Peptide:  WRNRVGDEG\n",
      "[Variant(g.50756540G>C)]\n",
      "{907: [Variant(g.50756540G>C)]} NM_022162:FRED2_1  Protein position:  906  Peptide:  WRNRVGDEG\n",
      "[Variant(g.50756540G>C)]\n",
      "{880: [Variant(g.50756540G>C)]} NM_001293557:FRED2_1  Protein position:  873  Peptide:  LALRLGNHY\n",
      "[Variant(g.50756540G>C)]\n",
      "{880: [Variant(g.50756540G>C)]} NM_001293557:FRED2_3  Protein position:  873  Peptide:  LALRLGNHY\n",
      "[Variant(g.234183368A>G)]\n",
      "{215: [Variant(g.234183368A>G)]} NM_001190266:FRED2_1  Protein position:  213  Peptide:  RRGQARLQK\n",
      "[Variant(g.20763686G>-)]\n",
      "{11: [Variant(g.20763686G>-)]} NM_004004:FRED2_1  Protein position:  4  Peptide:  TLQTILGV*\n",
      "[Variant(g.234183368A>G)]\n",
      "{215: [Variant(g.234183368A>G)]} NM_001190266:FRED2_1  Protein position:  214  Peptide:  RGQARLQKE\n",
      "[Variant(g.67705958G>A)]\n",
      "{380: [Variant(g.67705958G>A)]} NM_144701:FRED2_1  Protein position:  375  Peptide:  FNRSFQTGI\n",
      "[Variant(g.50745926C>T)]\n",
      "{701: [Variant(g.50745926C>T)]} NM_022162:FRED2_2  Protein position:  698  Peptide:  ALLWRQACA\n",
      "[Variant(g.50745926C>T)]\n",
      "{701: [Variant(g.50745926C>T)]} NM_022162:FRED2_3  Protein position:  698  Peptide:  ALLWRQACA\n",
      "[Variant(g.234183368A>G)]\n",
      "{183: [Variant(g.234183368A>G)]} NM_001190267:FRED2_1  Protein position:  177  Peptide:  GKLRKTAEE\n",
      "[Variant(g.234183368A>G)]\n",
      "{183: [Variant(g.234183368A>G)]} NM_001190267:FRED2_1  Protein position:  179  Peptide:  LRKTAEENQ\n",
      "[Variant(g.50745926C>T)]\n",
      "{674: [Variant(g.50745926C>T)]} NM_001293557:FRED2_2  Protein position:  667  Peptide:  PHNLQITSA\n",
      "[Variant(g.50745926C>T)]\n",
      "{674: [Variant(g.50745926C>T)]} NM_001293557:FRED2_3  Protein position:  667  Peptide:  PHNLQITSA\n",
      "[Variant(g.50756540G>C)]\n",
      "{880: [Variant(g.50756540G>C)]} NM_001293557:FRED2_1  Protein position:  880  Peptide:  HYITAAGAQ\n",
      "[Variant(g.50756540G>C)]\n",
      "{880: [Variant(g.50756540G>C)]} NM_001293557:FRED2_3  Protein position:  880  Peptide:  HYITAAGAQ\n",
      "[Variant(g.20763686G>-)]\n",
      "{11: [Variant(g.20763686G>-)]} NM_004004:FRED2_1  Protein position:  3  Peptide:  GTLQTILGV\n",
      "[Variant(g.234183368A>G)]\n",
      "{280: [Variant(g.234183368A>G)]} NM_017974:FRED2_1  Protein position:  275  Peptide:  QDNVDAHPG\n",
      "[Variant(g.234183368A>G)]\n",
      "{136: [Variant(g.234183368A>G)]} NM_198890:FRED2_1  Protein position:  131  Peptide:  QDNVDAHPG\n",
      "[Variant(g.234183368A>G)]\n",
      "{299: [Variant(g.234183368A>G)]} NM_030803:FRED2_1  Protein position:  294  Peptide:  QDNVDAHPG\n"
     ]
    }
   ],
   "source": [
    "poly_peps = filter(lambda x: any(x.get_variants_by_protein(prot.transcript_id) for prot in x.get_all_proteins()) , peptides1)\n",
    "\n",
    "for p in poly_peps:\n",
    "    for prot,poss in p.proteinPos.iteritems():\n",
    "        print p.get_variants_by_protein(prot)\n",
    "        for pos in poss:\n",
    "            vars = p.get_variants_by_protein_position(prot, pos)\n",
    "            if vars:\n",
    "                print vars,prot,\" Protein position: \",pos,\" Peptide: \",p"
   ]
  },
  {
   "cell_type": "code",
   "execution_count": null,
   "metadata": {
    "collapsed": true
   },
   "outputs": [],
   "source": []
  }
 ],
 "metadata": {
  "kernelspec": {
   "display_name": "Python 2",
   "language": "python",
   "name": "python2"
  },
  "language_info": {
   "codemirror_mode": {
    "name": "ipython",
    "version": 2
   },
   "file_extension": ".py",
   "mimetype": "text/x-python",
   "name": "python",
   "nbconvert_exporter": "python",
   "pygments_lexer": "ipython2",
   "version": "2.7.10"
  }
 },
 "nbformat": 4,
 "nbformat_minor": 0
}
