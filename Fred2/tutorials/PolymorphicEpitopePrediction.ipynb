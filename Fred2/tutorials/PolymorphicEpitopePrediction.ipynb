{
 "cells": [
  {
   "cell_type": "markdown",
   "metadata": {},
   "source": [
    "<h1> Polymoprhic Eptiope Prediction </h1>\n",
    "\n",
    "This tutorial illustrates how to use Fred2 to integrate genomic information of a patient for epitope prediction\n",
    "\n",
    "This tutorial will entails:\n",
    "- Variant construction\n",
    "- Polymorphic Transcript/Protein/Peptide construction\n",
    "- Polymorphic epitope prediction\n"
   ]
  },
  {
   "cell_type": "code",
   "execution_count": 1,
   "metadata": {
    "collapsed": false
   },
   "outputs": [],
   "source": [
    "%matplotlib inline\n",
    "%load_ext autoreload\n",
    "%reload_ext autoreload\n",
    "%autoreload 2\n",
    "\n",
    "#is is needed as long as Fred2 is not installed properly\n",
    "import sys \n",
    "\n",
    "sys.path.append(\"/Users/schubert/Dropbox/PhD/Porgramming/Fred2\")\n",
    "from Fred2.Core import Allele, Peptide, Protein,generate_peptides_from_protein\n",
    "from Fred2.IO import read_lines, read_fasta\n",
    "from Fred2.EpitopePrediction import EpitopePredictorFactory\n",
    "from Fred2.Core import generate_transcripts_from_variants, generate_proteins_from_transcripts \n",
    "from Fred2.Core import generate_peptides_from_variants\n",
    "from Fred2.IO import read_annovar_exonic\n",
    "from Fred2.IO.MartsAdapter import MartsAdapter"
   ]
  },
  {
   "cell_type": "markdown",
   "metadata": {},
   "source": [
    "<h2> Chapter 1: Generating polymorphic epitopes </h2>\n",
    "<br/>\n",
    "We first have to construct variants to work with. We either can do this manually or by using one of the IO funcitons of FRED2. Currently, FRED2 supports annotated exonic ANNOVAR files. Once the variant objects are created, we can use them to construct polymopric transcripts with `Fred2.Core.generate_transcript_from_variants`. For that we also have to specify from which database the additional transcript information (like sequence etc.) should be extracted. Here we use the `Fred2.IO.MatrsAdapter`to connect to the remote BioMart DB.<br/>\n",
    "\n",
    "`Fred2.Core.generate_transcript_from_variants` will generate all combinatorial possibilities of heterozygious and homozygious variants and incorportate these into the reference transcript sequence. This also means that the function becomes quickly unpractical once a large ammount of heterozygious variants should be processed. $n$ heterozygious variants will generate $2^n$ transcript objects.  "
   ]
  },
  {
   "cell_type": "code",
   "execution_count": 13,
   "metadata": {
    "collapsed": false
   },
   "outputs": [],
   "source": [
    "vars = read_annovar_exonic(\"./data/test_annovar.out\")\n",
    "trans = generate_transcripts_from_variants(vars, MartsAdapter())"
   ]
  },
  {
   "cell_type": "markdown",
   "metadata": {},
   "source": [
    "Once we generated the polymopric transcripts, we can use `Fred2.Core.generate_proteins_from_transcripts` to construct protein sequences. The so generated protein sequences will contain the non-synonymous variants that effected its protein sequence."
   ]
  },
  {
   "cell_type": "code",
   "execution_count": 3,
   "metadata": {
    "collapsed": false
   },
   "outputs": [],
   "source": [
    "vars = read_annovar_exonic(\"./data/test_annovar.out\")\n",
    "trans = generate_transcripts_from_variants(vars, MartsAdapter())"
   ]
  },
  {
   "cell_type": "markdown",
   "metadata": {},
   "source": [
    "Once we generated the polymopric transcripts, we can use `Fred2.Core.generate_proteins_from_transcripts` to construct protein sequences. The so generated protein sequences will contain the non-synonymous variants that effected its protein sequence."
   ]
  },
  {
   "cell_type": "code",
   "execution_count": 14,
   "metadata": {
    "collapsed": false
   },
   "outputs": [],
   "source": [
    "proteins = generate_proteins_from_transcripts(trans)"
   ]
  },
  {
   "cell_type": "markdown",
   "metadata": {},
   "source": [
    "By using `Fred2.Core.generate_peptides_from_protein`, we can now generate polymorpic peptide objects from the previously generated polymorpic proteins. In addition to the proteins from which peptides should be generate, we have to specify a desired peptide length (e.g. 9-mers)."
   ]
  },
  {
   "cell_type": "code",
   "execution_count": 15,
   "metadata": {
    "collapsed": false
   },
   "outputs": [],
   "source": [
    "peptides1 = generate_peptides_from_protein(proteins, 9)"
   ]
  },
  {
   "cell_type": "markdown",
   "metadata": {},
   "source": [
    "These polymorpich peptides have functionionalities that allow th identify the variants that influenced their sequences and locate their positions within the peptide sequence.\n",
    "<br/><br/>\n",
    "If we are only interrested in polymorphic peptides, or the high number of heterozygious variants prohibits the construction of all polymorpic transcripts/proteins, we can use `Fred2.Core.generate_peptides_from_variants`. This function restricts the combinatorial exploration of a specific window size, thereby reducing the number of possible combination to $2^m$ with $m << n$. The window size represents the length of the desired peptides (e.g. 9-mers). "
   ]
  },
  {
   "cell_type": "code",
   "execution_count": 11,
   "metadata": {
    "collapsed": false,
    "scrolled": true
   },
   "outputs": [
    {
     "name": "stdout",
     "output_type": "stream",
     "text": [
      "NM_004004\n",
      "NM_001293557\n",
      "NM_001190267\n",
      "NM_144701\n",
      "NM_001190266\n",
      "NM_198890\n",
      "NM_022162\n",
      "NM_030803\n",
      "NM_017974\n"
     ]
    }
   ],
   "source": [
    "peptides2 = generate_peptides_from_variants(vars, 9, MartsAdapter())"
   ]
  },
  {
   "cell_type": "code",
   "execution_count": 16,
   "metadata": {
    "collapsed": false,
    "scrolled": true
   },
   "outputs": [
    {
     "name": "stdout",
     "output_type": "stream",
     "text": [
      "2777\n",
      "7386\n",
      "9\n",
      "4618\n"
     ]
    }
   ],
   "source": [
    "s1= set(map(str,peptides1))\n",
    "s2 = set(map(str,peptides2))\n",
    "\n",
    "print len(s1)\n",
    "print len(s2)\n",
    "print len(s1-s2)\n",
    "print len(s2-s1)\n",
    "\n"
   ]
  },
  {
   "cell_type": "markdown",
   "metadata": {},
   "source": [
    "<h2> Chapter 2: Epitope prediction </h2>\n",
    "<br/>\n",
    "Once we have generated the peptide objects, we can fro example predict their binind affinity. For that, we first have to initialize HLA allele objects, and an epitope prediction method. For more information see the <a href=\"https://github.com/FRED-2/Fred2/blob/master/Fred2/tutorials/EpitopePrediction.ipynb\">tutorial on epitope prediction</a>."
   ]
  },
  {
   "cell_type": "code",
   "execution_count": 21,
   "metadata": {
    "collapsed": false
   },
   "outputs": [],
   "source": [
    "proteins = generate_proteins_from_transcripts(trans)"
   ]
  },
  {
   "cell_type": "markdown",
   "metadata": {},
   "source": [
    "By using `Fred2.Core.generate_peptides_from_protein`, we can now generate polymorpic peptide objects from the previously generated polymorpic proteins. In addition to the proteins from which peptides should be generate, we have to specify a desired peptide length (e.g. 9-mers)."
   ]
  },
  {
   "cell_type": "code",
   "execution_count": 12,
   "metadata": {
    "collapsed": false
   },
   "outputs": [],
   "source": [
    "peptides1 = generate_peptides_from_protein(proteins, 9)"
   ]
  },
  {
   "cell_type": "markdown",
   "metadata": {},
   "source": [
    "These polymorpich peptides have functionionalities that allow th identify the variants that influenced their sequences and locate their positions within the peptide sequence.\n",
    "<br/><br/>\n",
    "If we are only interrested in polymorphic peptides, or the high number of heterozygious variants prohibits the construction of all polymorpic transcripts/proteins, we can use `Fred2.Core.generate_peptides_from_variants`. This function restricts the combinatorial exploration of a specific window size, thereby reducing the number of possible combination to $2^m$ with $m << n$. The window size represents the length of the desired peptides (e.g. 9-mers). "
   ]
  },
  {
   "cell_type": "code",
   "execution_count": 8,
   "metadata": {
    "collapsed": false,
    "scrolled": true
   },
   "outputs": [
    {
     "name": "stdout",
     "output_type": "stream",
     "text": [
      "NM_004004\n",
      "NM_001293557\n",
      "NM_001190267"
     ]
    },
    {
     "name": "stderr",
     "output_type": "stream",
     "text": [
      "/Users/schubert/Dropbox/PhD/Porgramming/Fred2/Fred2/Core/Generator.py:50: UserWarning: For NM_001293557 bp does not match ref of assigned variant Variant(g.50745926C>T). Pos 2022, var ref C, seq ref G \n",
      "  seq[pos]))\n",
      "/Users/schubert/Dropbox/PhD/Porgramming/Fred2/Fred2/Core/Generator.py:50: UserWarning: For NM_001293557 bp does not match ref of assigned variant Variant(g.50745926C>T). Pos 2022, var ref C, seq ref T \n",
      "  seq[pos]))\n",
      "/Users/schubert/Dropbox/PhD/Porgramming/Fred2/Fred2/Core/Generator.py:50: UserWarning: For NM_001293557 bp does not match ref of assigned variant Variant(g.50756540G>C). Pos 2640, var ref G, seq ref A \n",
      "  seq[pos]))\n",
      "/Users/schubert/Dropbox/PhD/Porgramming/Fred2/Fred2/Core/Generator.py:50: UserWarning: For NM_001293557 bp does not match ref of assigned variant Variant(g.50756540G>C). Pos 2640, var ref G, seq ref C \n",
      "  seq[pos]))\n",
      "/Users/schubert/Dropbox/PhD/Porgramming/Fred2/Fred2/Core/Generator.py:50: UserWarning: For NM_001190267 bp does not match ref of assigned variant Variant(g.234183368A>G). Pos 549, var ref A, seq ref G \n",
      "  seq[pos]))\n"
     ]
    },
    {
     "name": "stdout",
     "output_type": "stream",
     "text": [
      "\n",
      "[Variant(g.67705958G>A), Variant(g.234183368A>G), Variant(g.50745926C>T), Variant(g.50756540G>C), Variant(g.20763686G>-)]\n",
      "NM_004004\n",
      "NM_001293557\n",
      "NM_001190267\n",
     ]
    },
    {
     "name": "stderr",
     "output_type": "stream",
     "text": [
      "/Users/schubert/Dropbox/PhD/Porgramming/Fred2/Fred2/Core/Generator.py:50: UserWarning: For NM_144701 bp does not match ref of assigned variant Variant(g.67705958G>A). Pos 1141, var ref G, seq ref A \n",
      "  seq[pos]))\n",
      "/Users/schubert/Dropbox/PhD/Porgramming/Fred2/Fred2/Core/Generator.py:50: UserWarning: For NM_001190266 bp does not match ref of assigned variant Variant(g.234183368A>G). Pos 645, var ref A, seq ref C \n",
      "  seq[pos]))\n"
     ]
    },
    {
     "name": "stdout",
     "output_type": "stream",
     "text": [
      "\n",
      "NM_198890"
     ]
    },
    {
     "name": "stderr",
     "output_type": "stream",
     "text": [
      "/Users/schubert/Dropbox/PhD/Porgramming/Fred2/Fred2/Core/Generator.py:50: UserWarning: For NM_001190266 bp does not match ref of assigned variant Variant(g.234183368A>G). Pos 645, var ref A, seq ref G \n",
      "  seq[pos]))\n",
      "/Users/schubert/Dropbox/PhD/Porgramming/Fred2/Fred2/Core/Generator.py:50: UserWarning: For NM_198890 bp does not match ref of assigned variant Variant(g.234183368A>G). Pos 408, var ref A, seq ref G \n",
      "  seq[pos]))\n"
     ]
    },
    {
     "name": "stdout",
     "output_type": "stream",
     "text": [
      "\n",
      "NM_022162\n",
      "NM_030803"
     ]
    },
    {
     "name": "stderr",
     "output_type": "stream",
     "text": [
      "/Users/schubert/Dropbox/PhD/Porgramming/Fred2/Fred2/Core/Generator.py:50: UserWarning: For NM_022162 bp does not match ref of assigned variant Variant(g.50745926C>T). Pos 2103, var ref C, seq ref T \n",
      "  seq[pos]))\n",
      "/Users/schubert/Dropbox/PhD/Porgramming/Fred2/Fred2/Core/Generator.py:50: UserWarning: For NM_022162 bp does not match ref of assigned variant Variant(g.50756540G>C). Pos 2721, var ref G, seq ref C \n",
      "  seq[pos]))\n",
      "/Users/schubert/Dropbox/PhD/Porgramming/Fred2/Fred2/Core/Generator.py:50: UserWarning: For NM_030803 bp does not match ref of assigned variant Variant(g.234183368A>G). Pos 897, var ref A, seq ref G \n",
      "  seq[pos]))\n"
     ]
    },
    {
     "name": "stdout",
     "output_type": "stream",
     "text": [
      "\n",
      "NM_017974\n"
     ]
    },
    {
     "name": "stderr",
     "output_type": "stream",
     "text": [
      "/Users/schubert/Dropbox/PhD/Porgramming/Fred2/Fred2/Core/Generator.py:50: UserWarning: For NM_017974 bp does not match ref of assigned variant Variant(g.234183368A>G). Pos 840, var ref A, seq ref G \n",
      "  seq[pos]))\n"
     ]
    }
   ],
   "source": [
    "peptides2 = generate_peptides_from_variants(vars, 9, MartsAdapter())"
   ]
  },
  {
   "cell_type": "code",
   "execution_count": 14,
   "metadata": {
    "collapsed": false,
    "scrolled": true
   },
   "outputs": [
    {
     "name": "stdout",
     "output_type": "stream",
     "text": [
      "2777\n",
      "7386\n",
      "9\n",
      "4618\n"
     ]
    }
   ],
   "source": [
    "s1= set(map(str,peptides1))\n",
    "s2 = set(map(str,peptides2))\n",
    "\n",
    "print len(s1)\n",
    "print len(s2)\n",
    "print len(s1-s2)\n",
    "print len(s2-s1)\n",
    "\n"
   ]
  },
  {
   "cell_type": "markdown",
   "metadata": {},
   "source": [
    "<h2> Chapter 2: Epitope prediction </h2>\n",
    "<br/>\n",
    "Once we have generated the peptide objects, we can fro example predict their binind affinity. For that, we first have to initialize HLA allele objects, and an epitope prediction method. For more information see the <a href=\"https://github.com/FRED-2/Fred2/blob/master/Fred2/tutorials/EpitopePrediction.ipynb\">tutorial on epitope prediction</a>."
   ]
  },
  {
   "cell_type": "code",
   "execution_count": 21,
   "metadata": {
    "collapsed": false
   },
   "outputs": [
    {
     "data": {
      "text/html": [
       "<div>\n",
       "<table border=\"1\" class=\"dataframe\">\n",
       "  <thead>\n",
       "    <tr style=\"text-align: right;\">\n",
       "      <th></th>\n",
       "      <th></th>\n",
       "      <th>A*02:01</th>\n",
       "      <th>B*15:01</th>\n",
       "    </tr>\n",
       "    <tr>\n",
       "      <th>Seq</th>\n",
       "      <th>Method</th>\n",
       "      <th></th>\n",
       "      <th></th>\n",
       "    </tr>\n",
       "  </thead>\n",
       "  <tbody>\n",
       "    <tr>\n",
       "      <th>(A, A, A, Q, E, A, Q, A, D)</th>\n",
       "      <th>svmhc</th>\n",
       "      <td>-0.995096</td>\n",
       "      <td>-1.295513</td>\n",
       "    </tr>\n",
       "    <tr>\n",
       "      <th>(A, A, D, F, P, R, W, K, R)</th>\n",
       "      <th>svmhc</th>\n",
       "      <td>-1.068312</td>\n",
       "      <td>-0.813017</td>\n",
       "    </tr>\n",
       "    <tr>\n",
       "      <th>(A, A, F, L, A, G, L, L, S)</th>\n",
       "      <th>svmhc</th>\n",
       "      <td>-1.558208</td>\n",
       "      <td>-0.920914</td>\n",
       "    </tr>\n",
       "    <tr>\n",
       "      <th>(A, A, F, L, L, Q, H, V, Q)</th>\n",
       "      <th>svmhc</th>\n",
       "      <td>-1.317206</td>\n",
       "      <td>-1.189752</td>\n",
       "    </tr>\n",
       "    <tr>\n",
       "      <th>(A, A, F, M, Y, V, F, Y, V)</th>\n",
       "      <th>svmhc</th>\n",
       "      <td>0.607884</td>\n",
       "      <td>-0.709952</td>\n",
       "    </tr>\n",
       "  </tbody>\n",
       "</table>\n",
       "</div>"
      ],
      "text/plain": [
       "                                     A*02:01   B*15:01\n",
       "Seq                         Method                    \n",
       "(A, A, A, Q, E, A, Q, A, D) svmhc  -0.995096 -1.295513\n",
       "(A, A, D, F, P, R, W, K, R) svmhc  -1.068312 -0.813017\n",
       "(A, A, F, L, A, G, L, L, S) svmhc  -1.558208 -0.920914\n",
       "(A, A, F, L, L, Q, H, V, Q) svmhc  -1.317206 -1.189752\n",
       "(A, A, F, M, Y, V, F, Y, V) svmhc   0.607884 -0.709952"
      ]
     },
     "execution_count": 21,
     "metadata": {},
     "output_type": "execute_result"
    }
   ],
   "source": [
    "alleles = read_lines(\"./data/alleles.txt\", type=Allele)\n",
    "svmhc = EpitopePredictorFactory(\"svmhc\")\n",
    "pred_df = svmhc.predict(filter(lambda x: \"*\" not in str(x), peptides1), alleles=alleles)\n",
    "pred_df.head()"
   ]
  },
  {
   "cell_type": "markdown",
   "metadata": {},
   "source": [
    "<h2> Chapter 3: Post-processing </h2>\n",
    "<br/>\n"
   ]
  },
  {
   "cell_type": "code",
   "execution_count": 28,
   "metadata": {
    "collapsed": false
   },
   "outputs": [
    {
     "name": "stdout",
     "output_type": "stream",
     "text": [
      "{6: [Variant(g.50756540G>C)]} ALRLGNHYI\n",
      "{6: [Variant(g.50756540G>C)]} ALRLGNHYI\n"
     ]
    }
   ],
   "source": [
    "poly_peps = filter(lambda x: any(x.get_variants_by_protein(prot.transcript_id) for prot in x.get_all_proteins()) , peptides1)\n",
    "p = poly_peps[0]\n",
    "for prot,poss in p.proteinPos.iteritems():\n",
    "    for pos in poss:\n",
    "        vars = p.get_variants_by_protein_position(prot, pos)\n",
    "        if vars:\n",
    "            print vars,p"
   ]
  },
  {
   "cell_type": "code",
   "execution_count": null,
   "metadata": {
    "collapsed": true
   },
   "outputs": [],
   "source": []
  }
 ],
 "metadata": {
  "kernelspec": {
   "display_name": "Python 2",
   "language": "python",
   "name": "python2"
  },
  "language_info": {
   "codemirror_mode": {
    "name": "ipython",
    "version": 2
   },
   "file_extension": ".py",
   "mimetype": "text/x-python",
   "name": "python",
   "nbconvert_exporter": "python",
   "pygments_lexer": "ipython2",
   "version": "2.7.10"
  }
 },
 "nbformat": 4,
 "nbformat_minor": 0
}
