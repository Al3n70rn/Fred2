{
 "cells": [
  {
   "cell_type": "markdown",
   "metadata": {},
   "source": [
    "<h1> Eptiope Prediction </h1>\n",
    "<h3> by Benjamin Schubert </h3>\n",
    "\n",
    "This tutorial illustrates the use of Fred2 to predict HLA-I/II epitopes and how to analyse results. Fred2 offers a long list on epitope prediction methods and. It was also designed in such a way that extending Fred2 with your favourit method is easy.\n",
    "\n",
    "This tutorial will entail:\n",
    "- Simple epitope prediction from a list of peptide sequences and protein sequences\n",
    "- Consensus prediction with multiple prediction methods\n",
    "- Manipulation of the results\n",
    "- Integration of a new prediction method"
   ]
  },
  {
   "cell_type": "markdown",
   "metadata": {
    "collapsed": true
   },
   "source": [
    "<h2> Chapter 1: The basics </h2>\n",
    "<br/>\n",
    "We first start with importing the needed packages."
   ]
  },
  {
   "cell_type": "code",
   "execution_count": 1,
   "metadata": {
    "collapsed": true
   },
   "outputs": [],
   "source": [
    "#is is needed as long as Fred2 is not installed properly\n",
    "import sys \n",
    "sys.path.append(\"/Users/schubert/Dropbox/PhD/Porgramming/Fred2/\")\n",
    "\n",
    "from Fred2.Core import Allele, Peptide, Protein\n",
    "from Fred2.IO import read_lines, read_fasta\n",
    "from Fred2.EpitopePrediction import EpitopePredictorFactory"
   ]
  },
  {
   "cell_type": "markdown",
   "metadata": {},
   "source": [
    "Lets start of with something playn simple: Defining peptides, and HLA alleles. You find all basic classes under `Fred2.Core`. HLA alleles have to be defined in new nomenclature (see: <a href=\"http://hla.alleles.org/\">http://hla.alleles.org/</a>). "
   ]
  },
  {
   "cell_type": "code",
   "execution_count": 2,
   "metadata": {
    "collapsed": true
   },
   "outputs": [],
   "source": [
    "peptides = [Peptide(\"SYFPEITHI\"),Peptide(\"FIASNGVKLV\"), Peptide(\"LLGATCMFV\")]\n",
    "allele = Allele(\"HLA-A*02:01\")"
   ]
  },
  {
   "cell_type": "markdown",
   "metadata": {},
   "source": [
    "Of course we don't have to specify all peptides and alleles by hand. We can also read those from file with `read_lines`. For doing so, the file has to contain the peptide sequences and HLA alleles one per line. "
   ]
  },
  {
   "cell_type": "code",
   "execution_count": 3,
   "metadata": {
    "collapsed": false
   },
   "outputs": [
    {
     "ename": "IOError",
     "evalue": "[Errno 2] No such file or directory: '../Data/examples/peptide.txt'",
     "output_type": "error",
     "traceback": [
      "\u001b[0;31m---------------------------------------------------------------------------\u001b[0m",
      "\u001b[0;31mIOError\u001b[0m                                   Traceback (most recent call last)",
      "\u001b[0;32m<ipython-input-3-530199b00f97>\u001b[0m in \u001b[0;36m<module>\u001b[0;34m()\u001b[0m\n\u001b[0;32m----> 1\u001b[0;31m \u001b[0mpeptides2\u001b[0m \u001b[0;34m=\u001b[0m \u001b[0mread_lines\u001b[0m\u001b[0;34m(\u001b[0m\u001b[0;34m\"../Data/examples/peptide.txt\"\u001b[0m\u001b[0;34m,\u001b[0m \u001b[0;34m\"Peptide\"\u001b[0m\u001b[0;34m)\u001b[0m\u001b[0;34m\u001b[0m\u001b[0m\n\u001b[0m\u001b[1;32m      2\u001b[0m \u001b[0malleles\u001b[0m \u001b[0;34m=\u001b[0m \u001b[0mread_line\u001b[0m\u001b[0;34m(\u001b[0m\u001b[0;34m\"../Data/examples/alleles.txt\"\u001b[0m\u001b[0;34m,\u001b[0m\u001b[0;34m\"Allele\"\u001b[0m\u001b[0;34m)\u001b[0m\u001b[0;34m\u001b[0m\u001b[0m\n",
      "\u001b[0;32m/Users/schubert/Dropbox/PhD/Porgramming/Fred2/Fred2/IO/FileReader.pyc\u001b[0m in \u001b[0;36mread_lines\u001b[0;34m(*argv, **kwargs)\u001b[0m\n\u001b[1;32m    103\u001b[0m     \u001b[0mcollect\u001b[0m \u001b[0;34m=\u001b[0m \u001b[0mset\u001b[0m\u001b[0;34m(\u001b[0m\u001b[0;34m)\u001b[0m\u001b[0;34m\u001b[0m\u001b[0m\n\u001b[1;32m    104\u001b[0m     \u001b[0;32mfor\u001b[0m \u001b[0mname\u001b[0m \u001b[0;32min\u001b[0m \u001b[0margv\u001b[0m\u001b[0;34m:\u001b[0m\u001b[0;34m\u001b[0m\u001b[0m\n\u001b[0;32m--> 105\u001b[0;31m         \u001b[0;32mwith\u001b[0m \u001b[0mopen\u001b[0m\u001b[0;34m(\u001b[0m\u001b[0mname\u001b[0m\u001b[0;34m,\u001b[0m \u001b[0;34m'r'\u001b[0m\u001b[0;34m)\u001b[0m \u001b[0;32mas\u001b[0m \u001b[0mhandle\u001b[0m\u001b[0;34m:\u001b[0m\u001b[0;34m\u001b[0m\u001b[0m\n\u001b[0m\u001b[1;32m    106\u001b[0m             \u001b[0;31m# iterate over all lines:\u001b[0m\u001b[0;34m\u001b[0m\u001b[0;34m\u001b[0m\u001b[0m\n\u001b[1;32m    107\u001b[0m             \u001b[0;32mfor\u001b[0m \u001b[0mline\u001b[0m \u001b[0;32min\u001b[0m \u001b[0mhandle\u001b[0m\u001b[0;34m:\u001b[0m\u001b[0;34m\u001b[0m\u001b[0m\n",
      "\u001b[0;31mIOError\u001b[0m: [Errno 2] No such file or directory: '../Data/examples/peptide.txt'"
     ]
    }
   ],
   "source": [
    "peptides2 = read_lines(\"../Data/examples/peptide.txt\", \"Peptide\")\n",
    "alleles = read_line(\"../Data/examples/alleles.txt\",\"Allele\")"
   ]
  },
  {
   "cell_type": "code",
   "execution_count": null,
   "metadata": {
    "collapsed": true
   },
   "outputs": [],
   "source": []
  }
 ],
 "metadata": {
  "kernelspec": {
   "display_name": "Python 2",
   "language": "python",
   "name": "python2"
  },
  "language_info": {
   "codemirror_mode": {
    "name": "ipython",
    "version": 2
   },
   "file_extension": ".py",
   "mimetype": "text/x-python",
   "name": "python",
   "nbconvert_exporter": "python",
   "pygments_lexer": "ipython2",
   "version": "2.7.6"
  }
 },
 "nbformat": 4,
 "nbformat_minor": 0
}
