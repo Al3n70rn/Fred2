{
 "cells": [
  {
   "cell_type": "markdown",
   "metadata": {
    "collapsed": true
   },
   "source": [
    "<h1> HLA Typing </h1>\n",
    "<h3> by Benjamin Schubert </h3>\n",
    "\n",
    "This short tutorial illustrates the use of Fred2 to predict the HLA type from NGS data.\n",
    "\n",
    "Currently Fred2 only provides shallow wrapper classes. That means Fred2 directly forwards the input to the command line tools without any sanity checking and also only returns the most probable HLA genotype without any additional information, as the differnt algorithms are very differnt."
   ]
  },
  {
   "cell_type": "markdown",
   "metadata": {},
   "source": [
    "<h2> Chapter 1: The basics </h2>\n",
    "<br/>\n",
    "We first start with importing the needed packages."
   ]
  },
  {
   "cell_type": "code",
   "execution_count": null,
   "metadata": {
    "collapsed": false
   },
   "outputs": [],
   "source": [
    "%matplotlib inline\n",
    "%load_ext autoreload\n",
    "%autoreload 2\n",
    "\n",
    "#is is needed as long as Fred2 is not installed properly\n",
    "import sys \n",
    "\n",
    "sys.path.append(\"/Users/schubert/Dropbox/PhD/Porgramming/Fred2\")\n",
    "from Fred2.HLAtyping import HLATypingFactory"
   ]
  },
  {
   "cell_type": "markdown",
   "metadata": {},
   "source": [
    "Now we can initialize for example`OptiType`by using the `HLATypingFactory` and predict the HLA type for a given NGS file. In this case the input is a RNA-Seq paired-end file in fastq format. But the input type can vary from prediction method to prediction method. "
   ]
  },
  {
   "cell_type": "code",
   "execution_count": null,
   "metadata": {
    "collapsed": true
   },
   "outputs": [],
   "source": [
    "os.environ[\"PATH\"] += os.pathsep + \"/Users/schubert/Dropbox/PhD/Porgramming/OptiType/\"\n",
    "\n",
    "opti = HLATypingFactory(\"OptiType\")\n",
    "opti.predict(\"./Data/CRC_81_N_1_fished.fastq\", \"/tmp/\", options=\"./Data/CRC_81_N_2_fished.fastq -r\")"
   ]
  }
 ],
 "metadata": {
  "kernelspec": {
   "display_name": "Python 2",
   "language": "python",
   "name": "python2"
  },
  "language_info": {
   "codemirror_mode": {
    "name": "ipython",
    "version": 2
   },
   "file_extension": ".py",
   "mimetype": "text/x-python",
   "name": "python",
   "nbconvert_exporter": "python",
   "pygments_lexer": "ipython2",
   "version": "2.7.10"
  }
 },
 "nbformat": 4,
 "nbformat_minor": 0
}
