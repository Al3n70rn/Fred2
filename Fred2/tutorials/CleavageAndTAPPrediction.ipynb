{
 "cells": [
  {
   "cell_type": "markdown",
   "metadata": {},
   "source": [
    "<h1> Cleavage Site and TAP Prediction </h1>\n",
    "\n",
    "\n",
    "This tutorial illustrates the use of Fred2 to predict the steps of the HLA-I antigen processing pathway including proteasomal cleavage and TAP transport. Fred2 offers a long list of prediction methods and was  designed in such a way that extending Fred2 with your favorite method is easy.\n",
    "\n",
    "This tutorial will entail:\n",
    "- Simple cleavage site/fragment prediction from a list of peptide sequences and protein sequences\n",
    "- Simple TAP prediction methods\n",
    "- Consensus prediction of proteasomal cleavage, TAP, and HLA binding to model the complete antigen processing pathway\n"
   ]
  },
  {
   "cell_type": "code",
   "execution_count": 2,
   "metadata": {
    "collapsed": false
   },
   "outputs": [
    {
     "name": "stdout",
     "output_type": "stream",
     "text": [
      "The autoreload extension is already loaded. To reload it, use:\n",
      "  %reload_ext autoreload\n"
     ]
    }
   ],
   "source": [
    "%matplotlib inline\n",
    "%load_ext autoreload\n",
    "%autoreload 2\n",
    "\n",
    "from Fred2.Core import Protein, Peptide, Allele\n",
    "from Fred2.Core import generate_peptides_from_protein\n",
    "from Fred2.IO import read_fasta\n",
    "from Fred2.CleavagePrediction import CleavageSitePredictorFactory, CleavageFragmentPredictorFactory\n",
    "from Fred2.TAPPrediction import TAPPredictorFactory"
   ]
  },
  {
   "cell_type": "markdown",
   "metadata": {
    "collapsed": true
   },
   "source": [
    "<h2> Chapter 1: Cleavage Prediction </h2>\n",
    "<br/>\n",
    "Fred2 offers a comprehensive list of state-of-the art proteasomal cleavage prediction methods. Usually one distinguishes cleavage methods into cleavage site and cleavage fragment prediction. Cleavage site prediction methods predict each possible cleavage site within a given amino acid sequence, whereas cleavage fragment prediction methods predict the likelihood of a peptide fragment of being a product of proteasomal cleavage. Additionally, the source of the training data are often also quite different. The majority of prediction tools was train on in vitro data of up to three fully analyzed proteins and distinguish between constitutive and immunoproteasomal cleavage. Some prediction methods use natural HLA ligands as training data as they are products of antigen processing pathway and therefore also of cleavage events.\n",
    "<br/><br/>\n",
    "But all methods start with reading in protein sequences. Fred2 offers several ways of defining Proteins. We can either directly initialize a `Fred2.Core.Protein` object by specifying a amino acid sequence and optionally a progenitor gene and transcript id, as well as the progenitor `Fred2.Core.Transcript` object, or we can directly read in proteins from FASTA files by using `Fred2.IO.read_fasta`.  "
   ]
  },
  {
   "cell_type": "code",
   "execution_count": 3,
   "metadata": {
    "collapsed": false
   },
   "outputs": [
    {
     "data": {
      "text/plain": [
       "PROTEIN: AAAAAAAAAAA (aa-seq)\n",
       "\t\t  Dummy (orig transcript)\n",
       "\t\t VARIANTS:"
      ]
     },
     "execution_count": 3,
     "metadata": {},
     "output_type": "execute_result"
    }
   ],
   "source": [
    "protein = Protein(\"AAAAAAAAAAA\",_gene_id=\"Dummy\", _transcript_id=\"Dummy\")\n",
    "proteins = read_fasta(\"./data/proteins.fasta\", id_position=3, type=Protein)\n",
    "protein"
   ]
  },
  {
   "cell_type": "markdown",
   "metadata": {},
   "source": [
    "Once we have a protein sequence to work with, we can specify the cleavage site prediction method of our choice. Fred2 offers one entry point for each type of prediction methods via so called factories. For cleavage site prediction it is `CleavageSitePredictorFactory`. To get an overview which prediction methods are currently implemented, we can use `CleavageSitePredictorFactory` as follows:"
   ]
  },
  {
   "cell_type": "code",
   "execution_count": 5,
   "metadata": {
    "collapsed": false
   },
   "outputs": [
    {
     "name": "stdout",
     "output_type": "stream",
     "text": [
      "proteasmm_i 1.0\n",
      "netchop 3.1\n",
      "proteasmm_c 1.0\n",
      "pcm 1.0\n"
     ]
    }
   ],
   "source": [
    "for name,version in CleavageSitePredictorFactory.available_methods().iteritems():\n",
    "    print name, \",\".join(version)"
   ]
  },
  {
   "cell_type": "markdown",
   "metadata": {},
   "source": [
    "Lets select `PCM` for example and make predictions:"
   ]
  },
  {
   "cell_type": "code",
   "execution_count": 6,
   "metadata": {
    "collapsed": false
   },
   "outputs": [
    {
     "data": {
      "text/html": [
       "<div>\n",
       "<table border=\"1\" class=\"dataframe\">\n",
       "  <thead>\n",
       "    <tr style=\"text-align: right;\">\n",
       "      <th></th>\n",
       "      <th></th>\n",
       "      <th>Seq</th>\n",
       "      <th>pcm</th>\n",
       "    </tr>\n",
       "    <tr>\n",
       "      <th>ID</th>\n",
       "      <th>Pos</th>\n",
       "      <th></th>\n",
       "      <th></th>\n",
       "    </tr>\n",
       "  </thead>\n",
       "  <tbody>\n",
       "    <tr>\n",
       "      <th rowspan=\"5\" valign=\"top\">NP_852610.1</th>\n",
       "      <th>0</th>\n",
       "      <td>M</td>\n",
       "      <td>0.00000</td>\n",
       "    </tr>\n",
       "    <tr>\n",
       "      <th>1</th>\n",
       "      <td>K</td>\n",
       "      <td>0.00000</td>\n",
       "    </tr>\n",
       "    <tr>\n",
       "      <th>2</th>\n",
       "      <td>M</td>\n",
       "      <td>0.00000</td>\n",
       "    </tr>\n",
       "    <tr>\n",
       "      <th>3</th>\n",
       "      <td>R</td>\n",
       "      <td>-1.77936</td>\n",
       "    </tr>\n",
       "    <tr>\n",
       "      <th>4</th>\n",
       "      <td>F</td>\n",
       "      <td>-0.87673</td>\n",
       "    </tr>\n",
       "  </tbody>\n",
       "</table>\n",
       "</div>"
      ],
      "text/plain": [
       "                Seq      pcm\n",
       "ID          Pos             \n",
       "NP_852610.1 0     M  0.00000\n",
       "            1     K  0.00000\n",
       "            2     M  0.00000\n",
       "            3     R -1.77936\n",
       "            4     F -0.87673"
      ]
     },
     "execution_count": 6,
     "metadata": {},
     "output_type": "execute_result"
    }
   ],
   "source": [
    "pcm = CleavageSitePredictorFactory(\"PCM\")\n",
    "site_result = pcm.predict(proteins)\n",
    "site_result.head()"
   ]
  },
  {
   "cell_type": "markdown",
   "metadata": {},
   "source": [
    "To specify a particular version of a prediction method, we can use the flag `version=\"\"` when calling the PredictorFactories. If we do not specify any version, Fred2 will initialize the most recent version that is supported."
   ]
  },
  {
   "cell_type": "code",
   "execution_count": 15,
   "metadata": {
    "collapsed": false
   },
   "outputs": [
    {
     "data": {
      "text/html": [
       "<div>\n",
       "<table border=\"1\" class=\"dataframe\">\n",
       "  <thead>\n",
       "    <tr style=\"text-align: right;\">\n",
       "      <th></th>\n",
       "      <th></th>\n",
       "      <th>Seq</th>\n",
       "      <th>pcm</th>\n",
       "    </tr>\n",
       "    <tr>\n",
       "      <th>ID</th>\n",
       "      <th>Pos</th>\n",
       "      <th></th>\n",
       "      <th></th>\n",
       "    </tr>\n",
       "  </thead>\n",
       "  <tbody>\n",
       "    <tr>\n",
       "      <th rowspan=\"5\" valign=\"top\">NP_852610.1</th>\n",
       "      <th>0</th>\n",
       "      <td>M</td>\n",
       "      <td>0.00000</td>\n",
       "    </tr>\n",
       "    <tr>\n",
       "      <th>1</th>\n",
       "      <td>K</td>\n",
       "      <td>0.00000</td>\n",
       "    </tr>\n",
       "    <tr>\n",
       "      <th>2</th>\n",
       "      <td>M</td>\n",
       "      <td>0.00000</td>\n",
       "    </tr>\n",
       "    <tr>\n",
       "      <th>3</th>\n",
       "      <td>R</td>\n",
       "      <td>-1.77936</td>\n",
       "    </tr>\n",
       "    <tr>\n",
       "      <th>4</th>\n",
       "      <td>F</td>\n",
       "      <td>-0.87673</td>\n",
       "    </tr>\n",
       "  </tbody>\n",
       "</table>\n",
       "</div>"
      ],
      "text/plain": [
       "                Seq      pcm\n",
       "ID          Pos             \n",
       "NP_852610.1 0     M  0.00000\n",
       "            1     K  0.00000\n",
       "            2     M  0.00000\n",
       "            3     R -1.77936\n",
       "            4     F -0.87673"
      ]
     },
     "execution_count": 15,
     "metadata": {},
     "output_type": "execute_result"
    }
   ],
   "source": [
    "pcm = CleavageSitePredictorFactory(\"PCM\", version=\"1.0\")\n",
    "site_result = pcm.predict(proteins)\n",
    "site_result.head()"
   ]
  },
  {
   "cell_type": "markdown",
   "metadata": {},
   "source": [
    "External tools like `NetChop` offer two additional flags when calling `.predict()`, `command=\"/path/to/binary\"` and `options=\"command options\"`. `command=\"\"` specifies the path to an alternative binary that should be used instead of the one which is globally registered. With options you can specify additional commands that will directly be passed to the command line call without any sanity checks."
   ]
  },
  {
   "cell_type": "code",
   "execution_count": null,
   "metadata": {
    "collapsed": true
   },
   "outputs": [],
   "source": [
    "pcm = CleavageSitePredictorFactory(\"NetChop\")\n",
    "site_result = pcm.predict(proteins, options=\"\")\n",
    "site_result.head()\n",
    "#TODO this has to be executed on a Linux machine!"
   ]
  },
  {
   "cell_type": "markdown",
   "metadata": {},
   "source": [
    "For CleavageFragment prediction we first have to generate peptides from protein sequences with `Fred2.Core.generate_peptides_from_proteins`. Fred2 currently supports only one CleavageFragment prediction methods proposed by Ginodi et al. <a href=\"http://bioinformatics.oxfordjournals.org/content/24/4/477.long\">(Ginodi, et al.(2008) Bioinformatics 24(4))</a>, which supports only 11mers (9mer epitopes and two flaking amino acids)."
   ]
  },
  {
   "cell_type": "code",
   "execution_count": 8,
   "metadata": {
    "collapsed": false
   },
   "outputs": [
    {
     "data": {
      "text/html": [
       "<div>\n",
       "<table border=\"1\" class=\"dataframe\">\n",
       "  <thead>\n",
       "    <tr style=\"text-align: right;\">\n",
       "      <th></th>\n",
       "      <th>ginodi</th>\n",
       "    </tr>\n",
       "  </thead>\n",
       "  <tbody>\n",
       "    <tr>\n",
       "      <th>(((A)), ((A)), ((V)), ((D)), ((P)), ((A)), ((D)), ((R)), ((C)))</th>\n",
       "      <td>-18.891867</td>\n",
       "    </tr>\n",
       "    <tr>\n",
       "      <th>(((A)), ((D)), ((R)), ((C)), ((K)), ((E)), ((V)), ((Q)), ((Q)))</th>\n",
       "      <td>-14.992024</td>\n",
       "    </tr>\n",
       "    <tr>\n",
       "      <th>(((A)), ((V)), ((D)), ((P)), ((A)), ((D)), ((R)), ((C)), ((K)))</th>\n",
       "      <td>-14.755080</td>\n",
       "    </tr>\n",
       "    <tr>\n",
       "      <th>(((C)), ((G)), ((K)), ((A)), ((A)), ((V)), ((D)), ((P)), ((A)))</th>\n",
       "      <td>-17.551360</td>\n",
       "    </tr>\n",
       "    <tr>\n",
       "      <th>(((C)), ((K)), ((E)), ((V)), ((Q)), ((Q)), ((I)), ((R)), ((D)))</th>\n",
       "      <td>-17.682320</td>\n",
       "    </tr>\n",
       "  </tbody>\n",
       "</table>\n",
       "</div>"
      ],
      "text/plain": [
       "                                                       ginodi\n",
       "(((A)), ((A)), ((V)), ((D)), ((P)), ((A)), ((D)... -18.891867\n",
       "(((A)), ((D)), ((R)), ((C)), ((K)), ((E)), ((V)... -14.992024\n",
       "(((A)), ((V)), ((D)), ((P)), ((A)), ((D)), ((R)... -14.755080\n",
       "(((C)), ((G)), ((K)), ((A)), ((A)), ((V)), ((D)... -17.551360\n",
       "(((C)), ((K)), ((E)), ((V)), ((Q)), ((Q)), ((I)... -17.682320"
      ]
     },
     "execution_count": 8,
     "metadata": {},
     "output_type": "execute_result"
    }
   ],
   "source": [
    "pep = generate_peptides_from_protein(proteins, 11)\n",
    "CleavageFragmentPredictorFactory(\"Ginodi\").predict(pep).head()"
   ]
  },
  {
   "cell_type": "markdown",
   "metadata": {},
   "source": [
    "The result object is based on pandas' `DataFrame`, thus all possibilities of manipulating the results pandas offers are possible, including rudimentary plotting capabilities."
   ]
  },
  {
   "cell_type": "code",
   "execution_count": 82,
   "metadata": {
    "collapsed": false
   },
   "outputs": [
    {
     "data": {
      "image/png": "[encoded data removed]",
      "text/plain": [
       "<matplotlib.figure.Figure at 0x10d269490>"
      ]
     },
     "metadata": {},
     "output_type": "display_data"
    }
   ],
   "source": [
    "import matplotlib.pyplot as plt\n",
    "\n",
    "f, a = plt.subplots(len(site_result.index.levels[0]),1)\n",
    "\n",
    "for i,r in enumerate(site_result.index.levels[0]):\n",
    "    site_result.xs(r).plot(kind='bar', ax=a[i]).set_xticklabels(site_result.loc[(r,slice(None)),\"Seq\"], rotation=0)\n"
   ]
  },
  {
   "cell_type": "markdown",
   "metadata": {},
   "source": [
    "We also can combine several prediction results of the same type via `CleavageSitePredictionResults.merge_results` (Note this function returns a merge Result DataFrame):"
   ]
  },
  {
   "cell_type": "code",
   "execution_count": 11,
   "metadata": {
    "collapsed": false
   },
   "outputs": [
    {
     "data": {
      "text/html": [
       "<div>\n",
       "<table border=\"1\" class=\"dataframe\">\n",
       "  <thead>\n",
       "    <tr style=\"text-align: right;\">\n",
       "      <th></th>\n",
       "      <th></th>\n",
       "      <th>Seq</th>\n",
       "      <th>pcm</th>\n",
       "      <th>proteasmm_c</th>\n",
       "    </tr>\n",
       "    <tr>\n",
       "      <th>ID</th>\n",
       "      <th>Pos</th>\n",
       "      <th></th>\n",
       "      <th></th>\n",
       "      <th></th>\n",
       "    </tr>\n",
       "  </thead>\n",
       "  <tbody>\n",
       "    <tr>\n",
       "      <th rowspan=\"7\" valign=\"top\">NP_852610.1</th>\n",
       "      <th>0</th>\n",
       "      <td>M</td>\n",
       "      <td>0.000000</td>\n",
       "      <td>0.000000</td>\n",
       "    </tr>\n",
       "    <tr>\n",
       "      <th>1</th>\n",
       "      <td>K</td>\n",
       "      <td>0.000000</td>\n",
       "      <td>0.000000</td>\n",
       "    </tr>\n",
       "    <tr>\n",
       "      <th>2</th>\n",
       "      <td>M</td>\n",
       "      <td>0.000000</td>\n",
       "      <td>0.000000</td>\n",
       "    </tr>\n",
       "    <tr>\n",
       "      <th>3</th>\n",
       "      <td>R</td>\n",
       "      <td>-1.779360</td>\n",
       "      <td>0.000000</td>\n",
       "    </tr>\n",
       "    <tr>\n",
       "      <th>4</th>\n",
       "      <td>F</td>\n",
       "      <td>-0.876730</td>\n",
       "      <td>0.000000</td>\n",
       "    </tr>\n",
       "    <tr>\n",
       "      <th>5</th>\n",
       "      <td>F</td>\n",
       "      <td>0.379716</td>\n",
       "      <td>0.967189</td>\n",
       "    </tr>\n",
       "    <tr>\n",
       "      <th>6</th>\n",
       "      <td>S</td>\n",
       "      <td>-0.682109</td>\n",
       "      <td>0.848493</td>\n",
       "    </tr>\n",
       "  </tbody>\n",
       "</table>\n",
       "</div>"
      ],
      "text/plain": [
       "                Seq       pcm  proteasmm_c\n",
       "ID          Pos                           \n",
       "NP_852610.1 0     M  0.000000     0.000000\n",
       "            1     K  0.000000     0.000000\n",
       "            2     M  0.000000     0.000000\n",
       "            3     R -1.779360     0.000000\n",
       "            4     F -0.876730     0.000000\n",
       "            5     F  0.379716     0.967189\n",
       "            6     S -0.682109     0.848493"
      ]
     },
     "execution_count": 11,
     "metadata": {},
     "output_type": "execute_result"
    }
   ],
   "source": [
    "import pandas as pd\n",
    "import numpy\n",
    "\n",
    "site_result2 = CleavageSitePredictorFactory(\"proteasmm_c\").predict(proteins)\n",
    "merged_result = site_result.merge_results([site_result2])\n",
    "merged_result.head(7)"
   ]
  },
  {
   "cell_type": "markdown",
   "metadata": {
    "collapsed": true
   },
   "source": [
    "We can also filter the results based on multiple expressions with `CleavageSitePredictionResults.filter_result`."
   ]
  },
  {
   "cell_type": "code",
   "execution_count": 84,
   "metadata": {
    "collapsed": false
   },
   "outputs": [
    {
     "data": {
      "text/html": [
       "<div>\n",
       "<table border=\"1\" class=\"dataframe\">\n",
       "  <thead>\n",
       "    <tr style=\"text-align: right;\">\n",
       "      <th></th>\n",
       "      <th></th>\n",
       "      <th>Seq</th>\n",
       "      <th>pcm</th>\n",
       "      <th>proteosmm_c</th>\n",
       "    </tr>\n",
       "    <tr>\n",
       "      <th>ID</th>\n",
       "      <th>Pos</th>\n",
       "      <th></th>\n",
       "      <th></th>\n",
       "      <th></th>\n",
       "    </tr>\n",
       "  </thead>\n",
       "  <tbody>\n",
       "    <tr>\n",
       "      <th rowspan=\"7\" valign=\"top\">NP_852610.1</th>\n",
       "      <th>5</th>\n",
       "      <td>F</td>\n",
       "      <td>0.379716</td>\n",
       "      <td>0.967189</td>\n",
       "    </tr>\n",
       "    <tr>\n",
       "      <th>14</th>\n",
       "      <td>V</td>\n",
       "      <td>0.563343</td>\n",
       "      <td>0.806216</td>\n",
       "    </tr>\n",
       "    <tr>\n",
       "      <th>16</th>\n",
       "      <td>P</td>\n",
       "      <td>0.662944</td>\n",
       "      <td>1.011543</td>\n",
       "    </tr>\n",
       "    <tr>\n",
       "      <th>17</th>\n",
       "      <td>A</td>\n",
       "      <td>0.115836</td>\n",
       "      <td>0.740608</td>\n",
       "    </tr>\n",
       "    <tr>\n",
       "      <th>18</th>\n",
       "      <td>D</td>\n",
       "      <td>0.124760</td>\n",
       "      <td>1.060129</td>\n",
       "    </tr>\n",
       "    <tr>\n",
       "      <th>20</th>\n",
       "      <td>C</td>\n",
       "      <td>0.853636</td>\n",
       "      <td>0.963365</td>\n",
       "    </tr>\n",
       "    <tr>\n",
       "      <th>28</th>\n",
       "      <td>D</td>\n",
       "      <td>0.445906</td>\n",
       "      <td>1.130923</td>\n",
       "    </tr>\n",
       "    <tr>\n",
       "      <th rowspan=\"8\" valign=\"top\">NP_852610_part2</th>\n",
       "      <th>3</th>\n",
       "      <td>I</td>\n",
       "      <td>0.159584</td>\n",
       "      <td>0.000000</td>\n",
       "    </tr>\n",
       "    <tr>\n",
       "      <th>15</th>\n",
       "      <td>V</td>\n",
       "      <td>0.168248</td>\n",
       "      <td>1.003839</td>\n",
       "    </tr>\n",
       "    <tr>\n",
       "      <th>22</th>\n",
       "      <td>L</td>\n",
       "      <td>0.589015</td>\n",
       "      <td>1.141511</td>\n",
       "    </tr>\n",
       "    <tr>\n",
       "      <th>24</th>\n",
       "      <td>P</td>\n",
       "      <td>0.523189</td>\n",
       "      <td>0.928291</td>\n",
       "    </tr>\n",
       "    <tr>\n",
       "      <th>25</th>\n",
       "      <td>D</td>\n",
       "      <td>0.804995</td>\n",
       "      <td>1.003516</td>\n",
       "    </tr>\n",
       "    <tr>\n",
       "      <th>27</th>\n",
       "      <td>V</td>\n",
       "      <td>1.404717</td>\n",
       "      <td>0.989936</td>\n",
       "    </tr>\n",
       "    <tr>\n",
       "      <th>29</th>\n",
       "      <td>M</td>\n",
       "      <td>1.662398</td>\n",
       "      <td>1.064119</td>\n",
       "    </tr>\n",
       "    <tr>\n",
       "      <th>32</th>\n",
       "      <td>L</td>\n",
       "      <td>1.071719</td>\n",
       "      <td>0.000000</td>\n",
       "    </tr>\n",
       "  </tbody>\n",
       "</table>\n",
       "</div>"
      ],
      "text/plain": [
       "                    Seq       pcm  proteosmm_c\n",
       "ID              Pos                           \n",
       "NP_852610.1     5     F  0.379716     0.967189\n",
       "                14    V  0.563343     0.806216\n",
       "                16    P  0.662944     1.011543\n",
       "                17    A  0.115836     0.740608\n",
       "                18    D  0.124760     1.060129\n",
       "                20    C  0.853636     0.963365\n",
       "                28    D  0.445906     1.130923\n",
       "NP_852610_part2 3     I  0.159584     0.000000\n",
       "                15    V  0.168248     1.003839\n",
       "                22    L  0.589015     1.141511\n",
       "                24    P  0.523189     0.928291\n",
       "                25    D  0.804995     1.003516\n",
       "                27    V  1.404717     0.989936\n",
       "                29    M  1.662398     1.064119\n",
       "                32    L  1.071719     0.000000"
      ]
     },
     "execution_count": 84,
     "metadata": {},
     "output_type": "execute_result"
    }
   ],
   "source": [
    "comp = lambda x,y: x > y\n",
    "expressions=[(\"pcm\",comp,0)]\n",
    "\n",
    "merged_result.filter_result(expressions)"
   ]
  },
  {
   "cell_type": "markdown",
   "metadata": {},
   "source": [
    "<h2> Chapter 2: TAP prediction </h2>"
   ]
  },
  {
   "cell_type": "markdown",
   "metadata": {},
   "source": [
    "Fred2 offers only limited prediction methods for TAP prediction, due to lack of publicly available methods."
   ]
  },
  {
   "cell_type": "code",
   "execution_count": 14,
   "metadata": {
    "collapsed": false
   },
   "outputs": [
    {
     "name": "stdout",
     "output_type": "stream",
     "text": [
      "svmtap 1.0\n",
      "smmtap 1.0\n",
      "doytchinova 1.0\n"
     ]
    }
   ],
   "source": [
    "for name,version in TAPPredictorFactory.available_methods().iteritems():\n",
    "    print name, \",\".join(version)"
   ]
  },
  {
   "cell_type": "markdown",
   "metadata": {},
   "source": [
    "For TAP prediction, we first have to generate peptides. Lets take the proteins we already imported and generate 9mers, as these two methods only support 9mer peptides."
   ]
  },
  {
   "cell_type": "code",
   "execution_count": 87,
   "metadata": {
    "collapsed": false
   },
   "outputs": [
    {
     "data": {
      "text/html": [
       "<div>\n",
       "<table border=\"1\" class=\"dataframe\">\n",
       "  <thead>\n",
       "    <tr style=\"text-align: right;\">\n",
       "      <th></th>\n",
       "      <th>svmtap</th>\n",
       "    </tr>\n",
       "  </thead>\n",
       "  <tbody>\n",
       "    <tr>\n",
       "      <th>(((A)), ((A)), ((V)), ((D)), ((P)), ((A)), ((D)), ((R)), ((C)))</th>\n",
       "      <td>-47.782823</td>\n",
       "    </tr>\n",
       "    <tr>\n",
       "      <th>(((A)), ((D)), ((R)), ((C)), ((K)), ((E)), ((V)), ((Q)), ((Q)))</th>\n",
       "      <td>-38.337527</td>\n",
       "    </tr>\n",
       "    <tr>\n",
       "      <th>(((A)), ((V)), ((D)), ((P)), ((A)), ((D)), ((R)), ((C)), ((K)))</th>\n",
       "      <td>-40.900773</td>\n",
       "    </tr>\n",
       "    <tr>\n",
       "      <th>(((C)), ((G)), ((K)), ((A)), ((A)), ((V)), ((D)), ((P)), ((A)))</th>\n",
       "      <td>-31.988850</td>\n",
       "    </tr>\n",
       "    <tr>\n",
       "      <th>(((C)), ((K)), ((E)), ((V)), ((Q)), ((Q)), ((I)), ((R)), ((D)))</th>\n",
       "      <td>-38.903919</td>\n",
       "    </tr>\n",
       "  </tbody>\n",
       "</table>\n",
       "</div>"
      ],
      "text/plain": [
       "                                                       svmtap\n",
       "(((A)), ((A)), ((V)), ((D)), ((P)), ((A)), ((D)... -47.782823\n",
       "(((A)), ((D)), ((R)), ((C)), ((K)), ((E)), ((V)... -38.337527\n",
       "(((A)), ((V)), ((D)), ((P)), ((A)), ((D)), ((R)... -40.900773\n",
       "(((C)), ((G)), ((K)), ((A)), ((A)), ((V)), ((D)... -31.988850\n",
       "(((C)), ((K)), ((E)), ((V)), ((Q)), ((Q)), ((I)... -38.903919"
      ]
     },
     "execution_count": 87,
     "metadata": {},
     "output_type": "execute_result"
    }
   ],
   "source": [
    "pep = generate_peptides_from_protein(proteins,9)\n",
    "tap_result = TAPPredictorFactory(\"SVMTAP\").predict(pep)\n",
    "tap_result.head()"
   ]
  },
  {
   "cell_type": "markdown",
   "metadata": {},
   "source": [
    "Again we can do all rudimentary operations on the result object as with the cleavage result objects, including merging and filtering."
   ]
  },
  {
   "cell_type": "code",
   "execution_count": 106,
   "metadata": {
    "collapsed": false
   },
   "outputs": [
    {
     "data": {
      "text/html": [
       "<div>\n",
       "<table border=\"1\" class=\"dataframe\">\n",
       "  <thead>\n",
       "    <tr style=\"text-align: right;\">\n",
       "      <th></th>\n",
       "      <th>svmtap</th>\n",
       "      <th>doytchinova</th>\n",
       "    </tr>\n",
       "  </thead>\n",
       "  <tbody>\n",
       "    <tr>\n",
       "      <th>(((A)), ((A)), ((V)), ((D)), ((P)), ((A)), ((D)), ((R)), ((C)))</th>\n",
       "      <td>-47.782823</td>\n",
       "      <td>NaN</td>\n",
       "    </tr>\n",
       "    <tr>\n",
       "      <th>(((A)), ((D)), ((R)), ((C)), ((K)), ((E)), ((V)), ((Q)), ((Q)))</th>\n",
       "      <td>-38.337527</td>\n",
       "      <td>-0.466</td>\n",
       "    </tr>\n",
       "    <tr>\n",
       "      <th>(((A)), ((V)), ((D)), ((P)), ((A)), ((D)), ((R)), ((C)), ((K)))</th>\n",
       "      <td>-40.900773</td>\n",
       "      <td>NaN</td>\n",
       "    </tr>\n",
       "    <tr>\n",
       "      <th>(((C)), ((G)), ((K)), ((A)), ((A)), ((V)), ((D)), ((P)), ((A)))</th>\n",
       "      <td>-31.988850</td>\n",
       "      <td>-2.070</td>\n",
       "    </tr>\n",
       "    <tr>\n",
       "      <th>(((C)), ((K)), ((E)), ((V)), ((Q)), ((Q)), ((I)), ((R)), ((D)))</th>\n",
       "      <td>-38.903919</td>\n",
       "      <td>NaN</td>\n",
       "    </tr>\n",
       "  </tbody>\n",
       "</table>\n",
       "</div>"
      ],
      "text/plain": [
       "                                                       svmtap  doytchinova\n",
       "(((A)), ((A)), ((V)), ((D)), ((P)), ((A)), ((D)... -47.782823          NaN\n",
       "(((A)), ((D)), ((R)), ((C)), ((K)), ((E)), ((V)... -38.337527       -0.466\n",
       "(((A)), ((V)), ((D)), ((P)), ((A)), ((D)), ((R)... -40.900773          NaN\n",
       "(((C)), ((G)), ((K)), ((A)), ((A)), ((V)), ((D)... -31.988850       -2.070\n",
       "(((C)), ((K)), ((E)), ((V)), ((Q)), ((Q)), ((I)... -38.903919          NaN"
      ]
     },
     "execution_count": 106,
     "metadata": {},
     "output_type": "execute_result"
    }
   ],
   "source": [
    "tap_result2 = TAPPredictorFactory(\"TAPDoytchinova\").predict(pep[:15])\n",
    "tap_result.merge_results(tap_result2).head()"
   ]
  },
  {
   "cell_type": "code",
   "execution_count": 111,
   "metadata": {
    "collapsed": false
   },
   "outputs": [
    {
     "data": {
      "text/html": [
       "<div>\n",
       "<table border=\"1\" class=\"dataframe\">\n",
       "  <thead>\n",
       "    <tr style=\"text-align: right;\">\n",
       "      <th></th>\n",
       "      <th>svmtap</th>\n",
       "    </tr>\n",
       "  </thead>\n",
       "  <tbody>\n",
       "    <tr>\n",
       "      <th>(((D)), ((P)), ((A)), ((D)), ((R)), ((C)), ((K)), ((E)), ((V)))</th>\n",
       "      <td>-25.560005</td>\n",
       "    </tr>\n",
       "    <tr>\n",
       "      <th>(((F)), ((S)), ((S)), ((P)), ((C)), ((G)), ((K)), ((A)), ((A)))</th>\n",
       "      <td>-19.259415</td>\n",
       "    </tr>\n",
       "    <tr>\n",
       "      <th>(((M)), ((R)), ((F)), ((F)), ((S)), ((S)), ((P)), ((C)), ((G)))</th>\n",
       "      <td>-26.315791</td>\n",
       "    </tr>\n",
       "    <tr>\n",
       "      <th>(((S)), ((P)), ((C)), ((G)), ((K)), ((A)), ((A)), ((V)), ((D)))</th>\n",
       "      <td>-24.671547</td>\n",
       "    </tr>\n",
       "    <tr>\n",
       "      <th>(((V)), ((D)), ((P)), ((A)), ((D)), ((R)), ((C)), ((K)), ((E)))</th>\n",
       "      <td>-14.140251</td>\n",
       "    </tr>\n",
       "    <tr>\n",
       "      <th>(((V)), ((P)), ((D)), ((H)), ((V)), ((N)), ((M)), ((S)), ((E)))</th>\n",
       "      <td>-23.865406</td>\n",
       "    </tr>\n",
       "  </tbody>\n",
       "</table>\n",
       "</div>"
      ],
      "text/plain": [
       "                                                       svmtap\n",
       "(((D)), ((P)), ((A)), ((D)), ((R)), ((C)), ((K)... -25.560005\n",
       "(((F)), ((S)), ((S)), ((P)), ((C)), ((G)), ((K)... -19.259415\n",
       "(((M)), ((R)), ((F)), ((F)), ((S)), ((S)), ((P)... -26.315791\n",
       "(((S)), ((P)), ((C)), ((G)), ((K)), ((A)), ((A)... -24.671547\n",
       "(((V)), ((D)), ((P)), ((A)), ((D)), ((R)), ((C)... -14.140251\n",
       "(((V)), ((P)), ((D)), ((H)), ((V)), ((N)), ((M)... -23.865406"
      ]
     },
     "execution_count": 111,
     "metadata": {},
     "output_type": "execute_result"
    }
   ],
   "source": [
    "from operator import ge\n",
    "\n",
    "tap_result.filter_result([(\"svmtap\",ge, -30)])"
   ]
  },
  {
   "cell_type": "markdown",
   "metadata": {},
   "source": [
    "<h2> Chapter 3: Consensus prediction for natural ligand prediction </h2>\n",
    "<br/>\n",
    "Proteasomal cleavage, TAP prediction, as well as HLA binding prediction have been combined to increase the specificity of predicting natural processed HLA ligands. One example is `WAPP` <a href=\"http://www.ncbi.nlm.nih.gov/pmc/articles/PMC2279325/\">(Dönnes, et al.(2005). Protein Science 14(8))</a>, which uses proteasomal cleavage and TAP prediction methods to filter for possibly processed peptides.\n",
    "\n",
    "The same approach can be implemented with Fred2. We start again with the two protein sequences and exemplify the workflows for CleavageFragmentPrediction and CleavageSitePrediction methods.\n"
   ]
  },
  {
   "cell_type": "markdown",
   "metadata": {},
   "source": [
    "<h4> Antigen processing prediction with CleavageFragment prediction </h4>\n",
    "<br/>\n",
    "We will use `PSSMGinodi`, `SVMTAP`, and `UniTope` for prediction for HLA-A*02:01. For `PSSMGionid` and `SVMTAP` we use a threshold of -15.0 and -30 respectively.\n"
   ]
  },
  {
   "cell_type": "code",
   "execution_count": 16,
   "metadata": {
    "collapsed": false
   },
   "outputs": [
    {
     "name": "stdout",
     "output_type": "stream",
     "text": [
      "Number of peptides:  50\n",
      "Number of peptides after proteasomal cleavage:  31\n",
      "Number of peptides after TAP transport:  6\n"
     ]
    },
    {
     "data": {
      "text/html": [
       "<div>\n",
       "<table border=\"1\" class=\"dataframe\">\n",
       "  <thead>\n",
       "    <tr style=\"text-align: right;\">\n",
       "      <th></th>\n",
       "      <th></th>\n",
       "      <th>A*02:01</th>\n",
       "    </tr>\n",
       "    <tr>\n",
       "      <th>Seq</th>\n",
       "      <th>Method</th>\n",
       "      <th></th>\n",
       "    </tr>\n",
       "  </thead>\n",
       "  <tbody>\n",
       "    <tr>\n",
       "      <th>(((D)), ((P)), ((A)), ((D)), ((R)), ((C)), ((K)), ((E)), ((V)))</th>\n",
       "      <th>unitope</th>\n",
       "      <td>-1.771554</td>\n",
       "    </tr>\n",
       "    <tr>\n",
       "      <th>(((F)), ((S)), ((S)), ((P)), ((C)), ((G)), ((K)), ((A)), ((A)))</th>\n",
       "      <th>unitope</th>\n",
       "      <td>-1.221980</td>\n",
       "    </tr>\n",
       "    <tr>\n",
       "      <th>(((M)), ((R)), ((F)), ((F)), ((S)), ((S)), ((P)), ((C)), ((G)))</th>\n",
       "      <th>unitope</th>\n",
       "      <td>-2.002212</td>\n",
       "    </tr>\n",
       "    <tr>\n",
       "      <th>(((S)), ((P)), ((C)), ((G)), ((K)), ((A)), ((A)), ((V)), ((D)))</th>\n",
       "      <th>unitope</th>\n",
       "      <td>-5.042082</td>\n",
       "    </tr>\n",
       "    <tr>\n",
       "      <th>(((V)), ((D)), ((P)), ((A)), ((D)), ((R)), ((C)), ((K)), ((E)))</th>\n",
       "      <th>unitope</th>\n",
       "      <td>-4.721389</td>\n",
       "    </tr>\n",
       "    <tr>\n",
       "      <th>(((V)), ((P)), ((D)), ((H)), ((V)), ((N)), ((M)), ((S)), ((E)))</th>\n",
       "      <th>unitope</th>\n",
       "      <td>-4.195872</td>\n",
       "    </tr>\n",
       "  </tbody>\n",
       "</table>\n",
       "</div>"
      ],
      "text/plain": [
       "                                                             A*02:01\n",
       "Seq                                                Method           \n",
       "(((D)), ((P)), ((A)), ((D)), ((R)), ((C)), ((K)... unitope -1.771554\n",
       "(((F)), ((S)), ((S)), ((P)), ((C)), ((G)), ((K)... unitope -1.221980\n",
       "(((M)), ((R)), ((F)), ((F)), ((S)), ((S)), ((P)... unitope -2.002212\n",
       "(((S)), ((P)), ((C)), ((G)), ((K)), ((A)), ((A)... unitope -5.042082\n",
       "(((V)), ((D)), ((P)), ((A)), ((D)), ((R)), ((C)... unitope -4.721389\n",
       "(((V)), ((P)), ((D)), ((H)), ((V)), ((N)), ((M)... unitope -4.195872"
      ]
     },
     "execution_count": 16,
     "metadata": {},
     "output_type": "execute_result"
    }
   ],
   "source": [
    "from operator import ge\n",
    "from Fred2.Core import Allele\n",
    "from Fred2.EpitopePrediction import EpitopePredictorFactory\n",
    "\n",
    "allele = Allele(\"HLA-A*02:01\")\n",
    "\n",
    "pep = generate_peptides_from_protein(proteins,11)\n",
    "print \"Number of peptides: \", len(pep)\n",
    "\n",
    "#cleavage prediction and filtering\n",
    "df_cl = CleavageFragmentPredictorFactory(\"Ginodi\").predict(pep).filter_result((\"ginodi\",ge,-15))\n",
    "print \"Number of peptides after proteasomal cleavage: \", len(df_cl)\n",
    "\n",
    "#tap prediction and filtering\n",
    "df_tap = TAPPredictorFactory(\"SVMTAP\").predict(df_cl.index).filter_result((\"svmtap\",ge,-30))\n",
    "print \"Number of peptides after TAP transport: \", len(df_tap)\n",
    "\n",
    "#epitope prediction and filtering\n",
    "df_epi = EpitopePredictorFactory(\"UniTope\").predict(df_tap.index,alleles=allele)\n",
    "df_epi"
   ]
  },
  {
   "cell_type": "markdown",
   "metadata": {},
   "source": [
    "Based on this analysis, there are no natural ligands predicted for the two test proteins."
   ]
  },
  {
   "cell_type": "markdown",
   "metadata": {},
   "source": [
    "<h4> Antigen processing prediction with CleavageSite prediction </h4>\n",
    "<br/>\n",
    "We will use `PCM`, `SVMTAP`, and `SVMHC` for prediction for HLA-A*02:01 like in the original work of WAPP. For `PCM` and `SVMTAP` we use a threshold of −4.8 and −27 respectively.\n"
   ]
  },
  {
   "cell_type": "code",
   "execution_count": 18,
   "metadata": {
    "collapsed": false
   },
   "outputs": [
    {
     "name": "stdout",
     "output_type": "stream",
     "text": [
      "Number of peptides after proteasomal cleavage:  61\n",
      "Number of peptides after TAP transport:  5\n"
     ]
    },
    {
     "data": {
      "text/html": [
       "<div>\n",
       "<table border=\"1\" class=\"dataframe\">\n",
       "  <thead>\n",
       "    <tr style=\"text-align: right;\">\n",
       "      <th></th>\n",
       "      <th></th>\n",
       "      <th>A*02:01</th>\n",
       "    </tr>\n",
       "    <tr>\n",
       "      <th>Seq</th>\n",
       "      <th>Method</th>\n",
       "      <th></th>\n",
       "    </tr>\n",
       "  </thead>\n",
       "  <tbody>\n",
       "    <tr>\n",
       "      <th>(((D)), ((P)), ((A)), ((D)), ((R)), ((C)), ((K)), ((E)), ((V)))</th>\n",
       "      <th>svmhc</th>\n",
       "      <td>-0.552764</td>\n",
       "    </tr>\n",
       "    <tr>\n",
       "      <th>(((V)), ((P)), ((D)), ((H)), ((V)), ((N)), ((M)), ((S)), ((E)))</th>\n",
       "      <th>svmhc</th>\n",
       "      <td>-0.992899</td>\n",
       "    </tr>\n",
       "  </tbody>\n",
       "</table>\n",
       "</div>"
      ],
      "text/plain": [
       "                                                            A*02:01\n",
       "Seq                                                Method          \n",
       "(((D)), ((P)), ((A)), ((D)), ((R)), ((C)), ((K)... svmhc  -0.552764\n",
       "(((V)), ((P)), ((D)), ((H)), ((V)), ((N)), ((M)... svmhc  -0.992899"
      ]
     },
     "execution_count": 18,
     "metadata": {},
     "output_type": "execute_result"
    }
   ],
   "source": [
    "from operator import ge\n",
    "from Fred2.Core import Allele,Protein\n",
    "from Fred2.EpitopePrediction import EpitopePredictorFactory\n",
    "\n",
    "allele = Allele(\"HLA-A*02:01\")\n",
    "\n",
    "\n",
    "\n",
    "#cleavage prediction and filtering\n",
    "df_cl = CleavageSitePredictorFactory(\"PCM\").predict(proteins).filter_result((\"pcm\",ge,-4.8))\n",
    "\n",
    "print \"Number of peptides after proteasomal cleavage: \", len(df_cl)\n",
    "\n",
    "#since we only predicted possible cleavage site, we now have to generate all possible peptides\n",
    "#peptides\n",
    "pep_dic = {}\n",
    "for p in proteins:\n",
    "    for i in df_cl.loc[(p.transcript_id,slice(None)),:].index.labels[1]:\n",
    "        if i-8>=0:\n",
    "            seq = str(p[i-8:i+1])\n",
    "            pep_dic.setdefault(seq, []).append(p)\n",
    "peps = [Peptide(seq,proteins={pp.transcript_id:pp for pp in p}) for seq, p in pep_dic.iteritems()]\n",
    "\n",
    "\n",
    "#tap prediction and filtering\n",
    "df_tap = TAPPredictorFactory(\"SVMTAP\").predict(peps).filter_result((\"svmtap\",ge,-27))\n",
    "print \"Number of peptides after TAP transport: \", len(df_tap)\n",
    "\n",
    "#epitope prediction and filtering\n",
    "df_epi = EpitopePredictorFactory(\"SVMHC\").predict(df_tap.index,alleles=allele).filter_result((\"svmhc\",ge,-1.0))\n",
    "df_epi"
   ]
  },
  {
   "cell_type": "markdown",
   "metadata": {},
   "source": [
    "Here as well, we do not predict any natural ligands."
   ]
  },
  {
   "cell_type": "code",
   "execution_count": null,
   "metadata": {
    "collapsed": true
   },
   "outputs": [],
   "source": []
  }
 ],
 "metadata": {
  "kernelspec": {
   "display_name": "Python 2",
   "language": "python",
   "name": "python2"
  },
  "language_info": {
   "codemirror_mode": {
    "name": "ipython",
    "version": 2
   },
   "file_extension": ".py",
   "mimetype": "text/x-python",
   "name": "python",
   "nbconvert_exporter": "python",
   "pygments_lexer": "ipython2",
   "version": "2.7.10"
  }
 },
 "nbformat": 4,
 "nbformat_minor": 0
}
